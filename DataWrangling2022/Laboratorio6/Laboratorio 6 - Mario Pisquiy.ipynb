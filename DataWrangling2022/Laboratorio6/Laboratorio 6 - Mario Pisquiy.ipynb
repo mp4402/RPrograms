{
 "cells": [
  {
   "cell_type": "markdown",
   "id": "8654590a",
   "metadata": {},
   "source": [
    " ### Mario Enrique Pisquiy Gómez, 20200399"
   ]
  },
  {
   "cell_type": "code",
   "execution_count": 1,
   "id": "7259ecd3",
   "metadata": {},
   "outputs": [],
   "source": [
    "import re"
   ]
  },
  {
   "cell_type": "markdown",
   "id": "bff56a92",
   "metadata": {},
   "source": [
    "#### 1.Genere una expresión regular que sea capaz de detectar las placas de un vehículo particular guatemalteco."
   ]
  },
  {
   "cell_type": "code",
   "execution_count": 40,
   "id": "1c8442bf",
   "metadata": {},
   "outputs": [
    {
     "data": {
      "text/plain": [
       "['P955JKM']"
      ]
     },
     "execution_count": 40,
     "metadata": {},
     "output_type": "execute_result"
    }
   ],
   "source": [
    "string = \"P955JKM\"\n",
    "pattern = \"(P\\d\\d\\d[B-DF-HJ-NP-TV-XZ][B-DF-HJ-NP-TV-XZ][B-DF-HJ-NP-TV-XZ])\"\n",
    "re.findall(pattern,string)"
   ]
  },
  {
   "cell_type": "markdown",
   "id": "587dc2b1",
   "metadata": {},
   "source": [
    "#### 2.\tGenere una expresión regular que valide si un archivo es de tipo .pdf o jpg.\n",
    "a.\tEjemplo1.pdf, prueba2.PDF, respuestas_del_examen.jpg, amor.JPG\n"
   ]
  },
  {
   "cell_type": "code",
   "execution_count": 58,
   "id": "b2d8b76e",
   "metadata": {},
   "outputs": [
    {
     "data": {
      "text/plain": [
       "[('amor.JPG', 'JPG')]"
      ]
     },
     "execution_count": 58,
     "metadata": {},
     "output_type": "execute_result"
    }
   ],
   "source": [
    "string = \"amor.JPG\"\n",
    "pattern = \"(^.+[\\.](pdf|jpg|PDF|JPG))\"\n",
    "re.findall(pattern,string)"
   ]
  },
  {
   "cell_type": "markdown",
   "id": "195d05e5",
   "metadata": {},
   "source": [
    "#### 4.\tCree una expresión regular para validar un numero de carnet de la Universidad Galileo, por ejemplo 19002324 donde los primeros dos dígitos representan el año en el que el alumno se inscribió los cuales pueden variar desde el 01 (año 2001) hasta el 30 (año 2030). Los siguientes dos dígitos son cero (00) los cuales van por default y los últimos cuatro dígitos son un número que va desde el 1110 hasta el 8970. Para dar su respuesta utilice la notación de expresiones regulares."
   ]
  },
  {
   "cell_type": "code",
   "execution_count": 61,
   "id": "056a549b",
   "metadata": {},
   "outputs": [
    {
     "data": {
      "text/plain": [
       "[('22008970', '22', '00', '8970')]"
      ]
     },
     "execution_count": 61,
     "metadata": {},
     "output_type": "execute_result"
    }
   ],
   "source": [
    "string = \"22008970\"\n",
    "pattern = \"((0[1-9]|[1-2][0-9]|30)(00)(1[1-9][1-9][0-9]|[2-7][0-9]{3}|[8][0-9][0-7][0]))\"\n",
    "re.findall(pattern,string)"
   ]
  },
  {
   "cell_type": "markdown",
   "id": "3fd6c00b",
   "metadata": {},
   "source": [
    "#### 5.\tCree una expresión regular que encuentre todas las palabras de la primera línea, pero ninguna de la segunda.\n",
    "a.\tpit, spot, spate, slap two, respite\n",
    " \n",
    "b.\tpt,Pot,peat,part\n"
   ]
  },
  {
   "cell_type": "code",
   "execution_count": null,
   "id": "45501fb2",
   "metadata": {},
   "outputs": [],
   "source": [
    "string = \"\"\n",
    "pattern = \"\"\n",
    "re.findall(pattern,string)"
   ]
  },
  {
   "cell_type": "markdown",
   "id": "b735ad36",
   "metadata": {},
   "source": [
    "#### 6.\tCree una expresión regular para obtener los números telefónicos de Guatemala. Estos pueden contener al inicio +502 o 502, pueden estar separados por un espacio en blanco o un guión o juntos. Notar que los números telefónicos pueden empezar únicamente con 4,5,6 o 2.\n",
    "a.\t+50254821151, 4210-7640, 52018150, 2434 6854, 11234569, 50211234578\n"
   ]
  },
  {
   "cell_type": "code",
   "execution_count": 82,
   "id": "ee87364e",
   "metadata": {},
   "outputs": [
    {
     "data": {
      "text/plain": [
       "[('5482 1151', '', '5482', '5', ' ', '1151')]"
      ]
     },
     "execution_count": 82,
     "metadata": {},
     "output_type": "execute_result"
    }
   ],
   "source": [
    "string = \"5482 1151\"\n",
    "pattern = \"((\\+502|502|)((4|5|6|2)\\d{3})(\\s|-|)(\\d{4}))\"\n",
    "re.findall(pattern,string)"
   ]
  },
  {
   "cell_type": "markdown",
   "id": "e7ece353",
   "metadata": {},
   "source": [
    "#### 7.\tGenere una expresión regular que sea capaz de obtener correos de la UFM."
   ]
  },
  {
   "cell_type": "code",
   "execution_count": 74,
   "id": "e014868d",
   "metadata": {},
   "outputs": [
    {
     "data": {
      "text/plain": [
       "['mariopisquiy@ufm.edu']"
      ]
     },
     "execution_count": 74,
     "metadata": {},
     "output_type": "execute_result"
    }
   ],
   "source": [
    "string = \"mariopisquiy@ufm.edu\"\n",
    "pattern = \"(^[^@&=,%+<>\\.]+@ufm\\.edu)\"\n",
    "re.findall(pattern,string)"
   ]
  }
 ],
 "metadata": {
  "kernelspec": {
   "display_name": "Python 3",
   "language": "python",
   "name": "python3"
  },
  "language_info": {
   "codemirror_mode": {
    "name": "ipython",
    "version": 3
   },
   "file_extension": ".py",
   "mimetype": "text/x-python",
   "name": "python",
   "nbconvert_exporter": "python",
   "pygments_lexer": "ipython3",
   "version": "3.7.13"
  }
 },
 "nbformat": 4,
 "nbformat_minor": 5
}
