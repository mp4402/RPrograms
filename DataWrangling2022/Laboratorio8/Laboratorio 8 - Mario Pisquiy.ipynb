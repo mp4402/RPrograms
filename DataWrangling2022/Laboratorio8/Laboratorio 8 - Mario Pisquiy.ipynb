{
 "cells": [
  {
   "cell_type": "markdown",
   "id": "77991d32",
   "metadata": {},
   "source": [
    "#### Mario Enrique Pisquiy Gómez\n",
    "#### 20200399"
   ]
  },
  {
   "cell_type": "code",
   "execution_count": 1,
   "id": "b32e991b",
   "metadata": {},
   "outputs": [],
   "source": [
    "import numpy as np\n",
    "import pandas as pd"
   ]
  },
  {
   "cell_type": "markdown",
   "id": "a56811c6",
   "metadata": {},
   "source": [
    "### Parte 1"
   ]
  },
  {
   "cell_type": "code",
   "execution_count": 2,
   "id": "a29586e3",
   "metadata": {},
   "outputs": [],
   "source": [
    "dataLimpia = pd.read_csv('titanic.csv')\n",
    "data = pd.read_csv('titanic_MD.csv')"
   ]
  }
 ],
 "metadata": {
  "kernelspec": {
   "display_name": "Python 3",
   "language": "python",
   "name": "python3"
  },
  "language_info": {
   "codemirror_mode": {
    "name": "ipython",
    "version": 3
   },
   "file_extension": ".py",
   "mimetype": "text/x-python",
   "name": "python",
   "nbconvert_exporter": "python",
   "pygments_lexer": "ipython3",
   "version": "3.7.13"
  }
 },
 "nbformat": 4,
 "nbformat_minor": 5
}
