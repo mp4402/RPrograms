{
 "cells": [
  {
   "cell_type": "markdown",
   "id": "77991d32",
   "metadata": {},
   "source": [
    "## Mario Enrique Pisquiy Gómez\n",
    "### 20200399"
   ]
  },
  {
   "cell_type": "code",
   "execution_count": 200,
   "id": "b32e991b",
   "metadata": {
    "scrolled": false
   },
   "outputs": [],
   "source": [
    "import numpy as np\n",
    "import pandas as pd\n",
    "import math\n",
    "from sklearn.linear_model import LinearRegression\n",
    "from sklearn.preprocessing import StandardScaler\n",
    "from sklearn.preprocessing import MinMaxScaler\n",
    "from sklearn.preprocessing import MaxAbsScaler\n",
    "import seaborn as sns"
   ]
  },
  {
   "cell_type": "markdown",
   "id": "a56811c6",
   "metadata": {},
   "source": [
    "## Importar Data"
   ]
  },
  {
   "cell_type": "code",
   "execution_count": 80,
   "id": "a29586e3",
   "metadata": {},
   "outputs": [],
   "source": [
    "dataLimpia = pd.read_csv('titanic.csv')\n",
    "data = pd.read_csv('titanic_MD.csv')\n",
    "dataMean = pd.read_csv('titanic_MD.csv')\n",
    "dataMedian = pd.read_csv('titanic_MD.csv')\n",
    "dataMode = pd.read_csv('titanic_MD.csv')\n",
    "dataRegression = pd.read_csv('titanic_MD.csv')"
   ]
  },
  {
   "cell_type": "code",
   "execution_count": 3,
   "id": "7fb5c4f1",
   "metadata": {
    "scrolled": false
   },
   "outputs": [
    {
     "name": "stdout",
     "output_type": "stream",
     "text": [
      "titanic_MD shaple: (183, 12)\n"
     ]
    },
    {
     "data": {
      "text/html": [
       "<div>\n",
       "<style scoped>\n",
       "    .dataframe tbody tr th:only-of-type {\n",
       "        vertical-align: middle;\n",
       "    }\n",
       "\n",
       "    .dataframe tbody tr th {\n",
       "        vertical-align: top;\n",
       "    }\n",
       "\n",
       "    .dataframe thead th {\n",
       "        text-align: right;\n",
       "    }\n",
       "</style>\n",
       "<table border=\"1\" class=\"dataframe\">\n",
       "  <thead>\n",
       "    <tr style=\"text-align: right;\">\n",
       "      <th></th>\n",
       "      <th>PassengerId</th>\n",
       "      <th>Survived</th>\n",
       "      <th>Pclass</th>\n",
       "      <th>Name</th>\n",
       "      <th>Sex</th>\n",
       "      <th>Age</th>\n",
       "      <th>SibSp</th>\n",
       "      <th>Parch</th>\n",
       "      <th>Ticket</th>\n",
       "      <th>Fare</th>\n",
       "      <th>Cabin</th>\n",
       "      <th>Embarked</th>\n",
       "    </tr>\n",
       "  </thead>\n",
       "  <tbody>\n",
       "    <tr>\n",
       "      <th>0</th>\n",
       "      <td>2</td>\n",
       "      <td>1</td>\n",
       "      <td>1</td>\n",
       "      <td>Cumings, Mrs. John Bradley (Florence Briggs Th...</td>\n",
       "      <td>?</td>\n",
       "      <td>38.0</td>\n",
       "      <td>1.0</td>\n",
       "      <td>0.0</td>\n",
       "      <td>PC 17599</td>\n",
       "      <td>71.2833</td>\n",
       "      <td>C85</td>\n",
       "      <td>C</td>\n",
       "    </tr>\n",
       "    <tr>\n",
       "      <th>1</th>\n",
       "      <td>4</td>\n",
       "      <td>1</td>\n",
       "      <td>1</td>\n",
       "      <td>Futrelle, Mrs. Jacques Heath (Lily May Peel)</td>\n",
       "      <td>female</td>\n",
       "      <td>35.0</td>\n",
       "      <td>1.0</td>\n",
       "      <td>0.0</td>\n",
       "      <td>113803</td>\n",
       "      <td>53.1000</td>\n",
       "      <td>C123</td>\n",
       "      <td>S</td>\n",
       "    </tr>\n",
       "    <tr>\n",
       "      <th>2</th>\n",
       "      <td>7</td>\n",
       "      <td>0</td>\n",
       "      <td>1</td>\n",
       "      <td>McCarthy, Mr. Timothy J</td>\n",
       "      <td>male</td>\n",
       "      <td>54.0</td>\n",
       "      <td>0.0</td>\n",
       "      <td>0.0</td>\n",
       "      <td>17463</td>\n",
       "      <td>51.8625</td>\n",
       "      <td>E46</td>\n",
       "      <td>S</td>\n",
       "    </tr>\n",
       "    <tr>\n",
       "      <th>3</th>\n",
       "      <td>11</td>\n",
       "      <td>1</td>\n",
       "      <td>3</td>\n",
       "      <td>Sandstrom, Miss. Marguerite Rut</td>\n",
       "      <td>female</td>\n",
       "      <td>NaN</td>\n",
       "      <td>1.0</td>\n",
       "      <td>NaN</td>\n",
       "      <td>PP 9549</td>\n",
       "      <td>16.7000</td>\n",
       "      <td>G6</td>\n",
       "      <td>S</td>\n",
       "    </tr>\n",
       "    <tr>\n",
       "      <th>4</th>\n",
       "      <td>12</td>\n",
       "      <td>1</td>\n",
       "      <td>1</td>\n",
       "      <td>Bonnell, Miss. Elizabeth</td>\n",
       "      <td>female</td>\n",
       "      <td>58.0</td>\n",
       "      <td>NaN</td>\n",
       "      <td>0.0</td>\n",
       "      <td>113783</td>\n",
       "      <td>26.5500</td>\n",
       "      <td>C103</td>\n",
       "      <td>S</td>\n",
       "    </tr>\n",
       "  </tbody>\n",
       "</table>\n",
       "</div>"
      ],
      "text/plain": [
       "   PassengerId  Survived  Pclass  \\\n",
       "0            2         1       1   \n",
       "1            4         1       1   \n",
       "2            7         0       1   \n",
       "3           11         1       3   \n",
       "4           12         1       1   \n",
       "\n",
       "                                                Name     Sex   Age  SibSp  \\\n",
       "0  Cumings, Mrs. John Bradley (Florence Briggs Th...       ?  38.0    1.0   \n",
       "1       Futrelle, Mrs. Jacques Heath (Lily May Peel)  female  35.0    1.0   \n",
       "2                            McCarthy, Mr. Timothy J    male  54.0    0.0   \n",
       "3                    Sandstrom, Miss. Marguerite Rut  female   NaN    1.0   \n",
       "4                           Bonnell, Miss. Elizabeth  female  58.0    NaN   \n",
       "\n",
       "   Parch    Ticket     Fare Cabin Embarked  \n",
       "0    0.0  PC 17599  71.2833   C85        C  \n",
       "1    0.0    113803  53.1000  C123        S  \n",
       "2    0.0     17463  51.8625   E46        S  \n",
       "3    NaN   PP 9549  16.7000    G6        S  \n",
       "4    0.0    113783  26.5500  C103        S  "
      ]
     },
     "execution_count": 3,
     "metadata": {},
     "output_type": "execute_result"
    }
   ],
   "source": [
    "print('titanic_MD shaple:',data.shape)\n",
    "data.head()"
   ]
  },
  {
   "cell_type": "code",
   "execution_count": 4,
   "id": "e2cf372d",
   "metadata": {},
   "outputs": [
    {
     "data": {
      "text/html": [
       "<div>\n",
       "<style scoped>\n",
       "    .dataframe tbody tr th:only-of-type {\n",
       "        vertical-align: middle;\n",
       "    }\n",
       "\n",
       "    .dataframe tbody tr th {\n",
       "        vertical-align: top;\n",
       "    }\n",
       "\n",
       "    .dataframe thead th {\n",
       "        text-align: right;\n",
       "    }\n",
       "</style>\n",
       "<table border=\"1\" class=\"dataframe\">\n",
       "  <thead>\n",
       "    <tr style=\"text-align: right;\">\n",
       "      <th></th>\n",
       "      <th>PassengerId</th>\n",
       "      <th>Survived</th>\n",
       "      <th>Pclass</th>\n",
       "      <th>Age</th>\n",
       "      <th>SibSp</th>\n",
       "      <th>Parch</th>\n",
       "      <th>Fare</th>\n",
       "    </tr>\n",
       "  </thead>\n",
       "  <tbody>\n",
       "    <tr>\n",
       "      <th>count</th>\n",
       "      <td>183.000000</td>\n",
       "      <td>183.000000</td>\n",
       "      <td>183.000000</td>\n",
       "      <td>158.000000</td>\n",
       "      <td>180.000000</td>\n",
       "      <td>171.000000</td>\n",
       "      <td>175.000000</td>\n",
       "    </tr>\n",
       "    <tr>\n",
       "      <th>mean</th>\n",
       "      <td>455.366120</td>\n",
       "      <td>0.672131</td>\n",
       "      <td>1.191257</td>\n",
       "      <td>35.692532</td>\n",
       "      <td>0.461111</td>\n",
       "      <td>0.461988</td>\n",
       "      <td>78.959191</td>\n",
       "    </tr>\n",
       "    <tr>\n",
       "      <th>std</th>\n",
       "      <td>247.052476</td>\n",
       "      <td>0.470725</td>\n",
       "      <td>0.515187</td>\n",
       "      <td>15.640858</td>\n",
       "      <td>0.646122</td>\n",
       "      <td>0.753435</td>\n",
       "      <td>77.026328</td>\n",
       "    </tr>\n",
       "    <tr>\n",
       "      <th>min</th>\n",
       "      <td>2.000000</td>\n",
       "      <td>0.000000</td>\n",
       "      <td>1.000000</td>\n",
       "      <td>0.920000</td>\n",
       "      <td>0.000000</td>\n",
       "      <td>0.000000</td>\n",
       "      <td>0.000000</td>\n",
       "    </tr>\n",
       "    <tr>\n",
       "      <th>25%</th>\n",
       "      <td>263.500000</td>\n",
       "      <td>0.000000</td>\n",
       "      <td>1.000000</td>\n",
       "      <td>24.000000</td>\n",
       "      <td>0.000000</td>\n",
       "      <td>0.000000</td>\n",
       "      <td>29.700000</td>\n",
       "    </tr>\n",
       "    <tr>\n",
       "      <th>50%</th>\n",
       "      <td>457.000000</td>\n",
       "      <td>1.000000</td>\n",
       "      <td>1.000000</td>\n",
       "      <td>35.500000</td>\n",
       "      <td>0.000000</td>\n",
       "      <td>0.000000</td>\n",
       "      <td>56.929200</td>\n",
       "    </tr>\n",
       "    <tr>\n",
       "      <th>75%</th>\n",
       "      <td>676.000000</td>\n",
       "      <td>1.000000</td>\n",
       "      <td>1.000000</td>\n",
       "      <td>48.000000</td>\n",
       "      <td>1.000000</td>\n",
       "      <td>1.000000</td>\n",
       "      <td>90.539600</td>\n",
       "    </tr>\n",
       "    <tr>\n",
       "      <th>max</th>\n",
       "      <td>890.000000</td>\n",
       "      <td>1.000000</td>\n",
       "      <td>3.000000</td>\n",
       "      <td>80.000000</td>\n",
       "      <td>3.000000</td>\n",
       "      <td>4.000000</td>\n",
       "      <td>512.329200</td>\n",
       "    </tr>\n",
       "  </tbody>\n",
       "</table>\n",
       "</div>"
      ],
      "text/plain": [
       "       PassengerId    Survived      Pclass         Age       SibSp  \\\n",
       "count   183.000000  183.000000  183.000000  158.000000  180.000000   \n",
       "mean    455.366120    0.672131    1.191257   35.692532    0.461111   \n",
       "std     247.052476    0.470725    0.515187   15.640858    0.646122   \n",
       "min       2.000000    0.000000    1.000000    0.920000    0.000000   \n",
       "25%     263.500000    0.000000    1.000000   24.000000    0.000000   \n",
       "50%     457.000000    1.000000    1.000000   35.500000    0.000000   \n",
       "75%     676.000000    1.000000    1.000000   48.000000    1.000000   \n",
       "max     890.000000    1.000000    3.000000   80.000000    3.000000   \n",
       "\n",
       "            Parch        Fare  \n",
       "count  171.000000  175.000000  \n",
       "mean     0.461988   78.959191  \n",
       "std      0.753435   77.026328  \n",
       "min      0.000000    0.000000  \n",
       "25%      0.000000   29.700000  \n",
       "50%      0.000000   56.929200  \n",
       "75%      1.000000   90.539600  \n",
       "max      4.000000  512.329200  "
      ]
     },
     "execution_count": 4,
     "metadata": {},
     "output_type": "execute_result"
    }
   ],
   "source": [
    "data.describe()"
   ]
  },
  {
   "cell_type": "markdown",
   "id": "38f37913",
   "metadata": {},
   "source": [
    "## Parte 1"
   ]
  },
  {
   "cell_type": "markdown",
   "id": "81732212",
   "metadata": {},
   "source": [
    "### Inciso 1"
   ]
  },
  {
   "cell_type": "code",
   "execution_count": 5,
   "id": "e3c70dd5",
   "metadata": {
    "scrolled": true
   },
   "outputs": [
    {
     "data": {
      "text/plain": [
       "PassengerId     0\n",
       "Survived        0\n",
       "Pclass          0\n",
       "Name            0\n",
       "Sex             0\n",
       "Age            25\n",
       "SibSp           3\n",
       "Parch          12\n",
       "Ticket          0\n",
       "Fare            8\n",
       "Cabin           0\n",
       "Embarked       12\n",
       "dtype: int64"
      ]
     },
     "execution_count": 5,
     "metadata": {},
     "output_type": "execute_result"
    }
   ],
   "source": [
    "data.isna().sum() #or df.isnull().sum()"
   ]
  },
  {
   "cell_type": "code",
   "execution_count": 6,
   "id": "a324a2c9",
   "metadata": {},
   "outputs": [
    {
     "data": {
      "text/plain": [
       "array([0, 1], dtype=int64)"
      ]
     },
     "execution_count": 6,
     "metadata": {},
     "output_type": "execute_result"
    }
   ],
   "source": [
    "np.unique(data['Survived'])"
   ]
  },
  {
   "cell_type": "code",
   "execution_count": 7,
   "id": "1c0084dc",
   "metadata": {},
   "outputs": [
    {
     "data": {
      "text/plain": [
       "array([1, 2, 3], dtype=int64)"
      ]
     },
     "execution_count": 7,
     "metadata": {},
     "output_type": "execute_result"
    }
   ],
   "source": [
    "np.unique(data['Pclass'])"
   ]
  },
  {
   "cell_type": "code",
   "execution_count": 8,
   "id": "5f98a1ca",
   "metadata": {},
   "outputs": [
    {
     "data": {
      "text/plain": [
       "array([ 0.92,  2.  ,  3.  ,  4.  ,  6.  , 11.  , 14.  , 15.  , 16.  ,\n",
       "       17.  , 18.  , 19.  , 21.  , 22.  , 23.  , 24.  , 25.  , 27.  ,\n",
       "       28.  , 29.  , 30.  , 31.  , 32.  , 33.  , 34.  , 35.  , 36.  ,\n",
       "       36.5 , 37.  , 38.  , 39.  , 40.  , 41.  , 42.  , 43.  , 44.  ,\n",
       "       45.  , 46.  , 47.  , 48.  , 49.  , 50.  , 51.  , 52.  , 53.  ,\n",
       "       54.  , 55.  , 56.  , 58.  , 60.  , 61.  , 62.  , 63.  , 64.  ,\n",
       "       65.  , 70.  , 71.  , 80.  ,   nan])"
      ]
     },
     "execution_count": 8,
     "metadata": {},
     "output_type": "execute_result"
    }
   ],
   "source": [
    "np.unique(data['Age'])"
   ]
  },
  {
   "cell_type": "code",
   "execution_count": 9,
   "id": "a6a3c937",
   "metadata": {},
   "outputs": [
    {
     "data": {
      "text/plain": [
       "array([ 0.,  1.,  2.,  3., nan])"
      ]
     },
     "execution_count": 9,
     "metadata": {},
     "output_type": "execute_result"
    }
   ],
   "source": [
    "np.unique(data['SibSp'])"
   ]
  },
  {
   "cell_type": "code",
   "execution_count": 10,
   "id": "96a7272b",
   "metadata": {},
   "outputs": [
    {
     "data": {
      "text/plain": [
       "array([ 0.,  1.,  2.,  4., nan])"
      ]
     },
     "execution_count": 10,
     "metadata": {},
     "output_type": "execute_result"
    }
   ],
   "source": [
    "np.unique(data['Parch'])"
   ]
  },
  {
   "cell_type": "code",
   "execution_count": 11,
   "id": "7759301f",
   "metadata": {},
   "outputs": [
    {
     "data": {
      "text/plain": [
       "array([  0.    ,   5.    ,   7.65  ,   8.05  ,  10.4625,  10.5   ,\n",
       "        12.475 ,  12.875 ,  13.    ,  13.7917,  16.7   ,  25.5875,\n",
       "        25.9292,  26.    ,  26.2833,  26.2875,  26.3875,  26.55  ,\n",
       "        27.7208,  27.75  ,  28.5   ,  28.7125,  29.7   ,  30.    ,\n",
       "        30.5   ,  30.6958,  31.    ,  32.3208,  33.5   ,  34.0208,\n",
       "        34.6542,  35.5   ,  38.5   ,  39.    ,  39.4   ,  39.6   ,\n",
       "        40.125 ,  49.5   ,  49.5042,  50.4958,  51.4792,  51.8625,\n",
       "        52.    ,  52.5542,  53.1   ,  55.    ,  55.4417,  55.9   ,\n",
       "        56.9292,  57.    ,  57.9792,  61.175 ,  61.9792,  63.3583,\n",
       "        66.6   ,  69.3   ,  71.    ,  71.2833,  75.25  ,  76.7292,\n",
       "        77.2875,  77.9583,  78.2667,  78.85  ,  79.2   ,  79.65  ,\n",
       "        81.8583,  83.1583,  83.475 ,  86.5   ,  89.1042,  90.    ,\n",
       "        91.0792,  93.5   , 106.425 , 108.9   , 110.8833, 113.275 ,\n",
       "       120.    , 134.5   , 135.6333, 146.5208, 151.55  , 153.4625,\n",
       "       164.8667, 211.3375, 211.5   , 227.525 , 247.5208, 262.375 ,\n",
       "       263.    , 512.3292,      nan])"
      ]
     },
     "execution_count": 11,
     "metadata": {},
     "output_type": "execute_result"
    }
   ],
   "source": [
    "np.unique(data['Fare'])"
   ]
  },
  {
   "cell_type": "code",
   "execution_count": 12,
   "id": "a1befc4f",
   "metadata": {},
   "outputs": [
    {
     "data": {
      "text/plain": [
       "array(['?', 'female', 'male'], dtype=object)"
      ]
     },
     "execution_count": 12,
     "metadata": {},
     "output_type": "execute_result"
    }
   ],
   "source": [
    "np.unique(data['Sex'])"
   ]
  },
  {
   "cell_type": "code",
   "execution_count": 13,
   "id": "a2a5fb95",
   "metadata": {},
   "outputs": [
    {
     "data": {
      "text/plain": [
       "array(['110152', '110413', '110465', '110564', '110813', '111240',\n",
       "       '111320', '111361', '111369', '112050', '112053', '112059',\n",
       "       '112277', '113043', '113050', '113051', '113055', '113501',\n",
       "       '113503', '113505', '113509', '113514', '113760', '113773',\n",
       "       '113776', '113781', '113783', '113784', '113786', '113787',\n",
       "       '113788', '113803', '113806', '11751', '11752', '11753', '11755',\n",
       "       '11765', '11767', '11769', '11771', '11813', '11967', '12749',\n",
       "       '13049', '13213', '13214', '13502', '13507', '13509', '13567',\n",
       "       '13568', '16966', '17421', '17453', '17463', '17465', '17466',\n",
       "       '17474', '17764', '19877', '19928', '19943', '19950', '19952',\n",
       "       '19996', '230080', '230136', '24160', '248698', '248733', '27042',\n",
       "       '27267', '28551', '33638', '34218', '347054', '348121', '348123',\n",
       "       '348124', '35273', '35281', '36928', '36947', '36963', '36967',\n",
       "       '36973', '392096', '5727', '695', 'C.A. 29395', 'C.A. 34260',\n",
       "       'F.C. 12750', 'PC 17473', 'PC 17474', 'PC 17475', 'PC 17476',\n",
       "       'PC 17477', 'PC 17482', 'PC 17485', 'PC 17558', 'PC 17569',\n",
       "       'PC 17572', 'PC 17582', 'PC 17590', 'PC 17592', 'PC 17593',\n",
       "       'PC 17595', 'PC 17596', 'PC 17599', 'PC 17608', 'PC 17610',\n",
       "       'PC 17754', 'PC 17755', 'PC 17756', 'PC 17757', 'PC 17758',\n",
       "       'PC 17759', 'PC 17760', 'PC 17761', 'PP 9549', 'S.O./P.P. 3',\n",
       "       'SC/AH Basle 541', 'SC/Paris 2163', 'SOTON/O.Q. 392078',\n",
       "       'W.E.P. 5734', 'WE/P 5735'], dtype=object)"
      ]
     },
     "execution_count": 13,
     "metadata": {},
     "output_type": "execute_result"
    }
   ],
   "source": [
    "np.unique(data['Ticket'])"
   ]
  },
  {
   "cell_type": "code",
   "execution_count": 14,
   "id": "c063b8a1",
   "metadata": {
    "scrolled": true
   },
   "outputs": [
    {
     "data": {
      "text/plain": [
       "array(['A10', 'A16', 'A20', 'A23', 'A24', 'A26', 'A31', 'A34', 'A36',\n",
       "       'A5', 'A6', 'A7', 'B101', 'B18', 'B19', 'B20', 'B22', 'B3', 'B30',\n",
       "       'B35', 'B37', 'B38', 'B39', 'B4', 'B41', 'B42', 'B49', 'B5', 'B50',\n",
       "       'B51 B53 B55', 'B57 B59 B63 B66', 'B58 B60', 'B69', 'B71', 'B73',\n",
       "       'B77', 'B79', 'B80', 'B82 B84', 'B86', 'B94', 'B96 B98', 'C101',\n",
       "       'C103', 'C104', 'C110', 'C111', 'C118', 'C123', 'C124', 'C125',\n",
       "       'C126', 'C148', 'C2', 'C22 C26', 'C23 C25 C27', 'C30', 'C32',\n",
       "       'C45', 'C46', 'C49', 'C50', 'C52', 'C54', 'C62 C64', 'C65', 'C68',\n",
       "       'C7', 'C70', 'C78', 'C82', 'C83', 'C85', 'C86', 'C87', 'C90',\n",
       "       'C91', 'C92', 'C93', 'C99', 'D', 'D10 D12', 'D11', 'D15', 'D17',\n",
       "       'D19', 'D20', 'D26', 'D28', 'D30', 'D33', 'D35', 'D36', 'D37',\n",
       "       'D46', 'D47', 'D48', 'D49', 'D50', 'D56', 'D6', 'D7', 'D9', 'E10',\n",
       "       'E101', 'E12', 'E121', 'E17', 'E24', 'E25', 'E31', 'E33', 'E34',\n",
       "       'E36', 'E38', 'E40', 'E44', 'E46', 'E49', 'E50', 'E58', 'E63',\n",
       "       'E67', 'E68', 'E77', 'E8', 'F G63', 'F G73', 'F2', 'F33', 'F4',\n",
       "       'G6', 'T'], dtype=object)"
      ]
     },
     "execution_count": 14,
     "metadata": {},
     "output_type": "execute_result"
    }
   ],
   "source": [
    "np.unique(data['Cabin'])"
   ]
  },
  {
   "cell_type": "code",
   "execution_count": 84,
   "id": "4dea8c26",
   "metadata": {
    "scrolled": true
   },
   "outputs": [
    {
     "data": {
      "text/html": [
       "<div>\n",
       "<style scoped>\n",
       "    .dataframe tbody tr th:only-of-type {\n",
       "        vertical-align: middle;\n",
       "    }\n",
       "\n",
       "    .dataframe tbody tr th {\n",
       "        vertical-align: top;\n",
       "    }\n",
       "\n",
       "    .dataframe thead th {\n",
       "        text-align: right;\n",
       "    }\n",
       "</style>\n",
       "<table border=\"1\" class=\"dataframe\">\n",
       "  <thead>\n",
       "    <tr style=\"text-align: right;\">\n",
       "      <th></th>\n",
       "      <th>cols</th>\n",
       "      <th>val</th>\n",
       "    </tr>\n",
       "  </thead>\n",
       "  <tbody>\n",
       "    <tr>\n",
       "      <th>0</th>\n",
       "      <td>Name</td>\n",
       "      <td>0</td>\n",
       "    </tr>\n",
       "    <tr>\n",
       "      <th>1</th>\n",
       "      <td>Sex</td>\n",
       "      <td>51</td>\n",
       "    </tr>\n",
       "    <tr>\n",
       "      <th>2</th>\n",
       "      <td>Ticket</td>\n",
       "      <td>0</td>\n",
       "    </tr>\n",
       "    <tr>\n",
       "      <th>3</th>\n",
       "      <td>Cabin</td>\n",
       "      <td>0</td>\n",
       "    </tr>\n",
       "    <tr>\n",
       "      <th>4</th>\n",
       "      <td>Embarked</td>\n",
       "      <td>0</td>\n",
       "    </tr>\n",
       "  </tbody>\n",
       "</table>\n",
       "</div>"
      ],
      "text/plain": [
       "       cols  val\n",
       "0      Name    0\n",
       "1       Sex   51\n",
       "2    Ticket    0\n",
       "3     Cabin    0\n",
       "4  Embarked    0"
      ]
     },
     "execution_count": 84,
     "metadata": {},
     "output_type": "execute_result"
    }
   ],
   "source": [
    "cols = []\n",
    "val = []\n",
    "for col in data.select_dtypes(include='object').columns:\n",
    "    cols.append(col)\n",
    "    val.append(data[col].str.contains(r'\\?').sum())\n",
    "pd.DataFrame({\n",
    "    'cols':cols,\n",
    "    'val':val\n",
    "})"
   ]
  },
  {
   "cell_type": "code",
   "execution_count": 81,
   "id": "07f5cdf7",
   "metadata": {},
   "outputs": [],
   "source": [
    "data.replace(r'\\?', np.nan, regex = True, inplace = True)\n",
    "dataMean.replace(r'\\?', np.nan, regex = True, inplace = True)\n",
    "dataMedian.replace(r'\\?', np.nan, regex = True, inplace = True)\n",
    "dataMode.replace(r'\\?', np.nan, regex = True, inplace = True)\n",
    "dataRegression.replace(r'\\?', np.nan, regex = True, inplace = True)"
   ]
  },
  {
   "cell_type": "code",
   "execution_count": 17,
   "id": "92a4467b",
   "metadata": {},
   "outputs": [
    {
     "data": {
      "text/html": [
       "<div>\n",
       "<style scoped>\n",
       "    .dataframe tbody tr th:only-of-type {\n",
       "        vertical-align: middle;\n",
       "    }\n",
       "\n",
       "    .dataframe tbody tr th {\n",
       "        vertical-align: top;\n",
       "    }\n",
       "\n",
       "    .dataframe thead th {\n",
       "        text-align: right;\n",
       "    }\n",
       "</style>\n",
       "<table border=\"1\" class=\"dataframe\">\n",
       "  <thead>\n",
       "    <tr style=\"text-align: right;\">\n",
       "      <th></th>\n",
       "      <th>cols</th>\n",
       "      <th>val</th>\n",
       "    </tr>\n",
       "  </thead>\n",
       "  <tbody>\n",
       "    <tr>\n",
       "      <th>0</th>\n",
       "      <td>Name</td>\n",
       "      <td>0</td>\n",
       "    </tr>\n",
       "    <tr>\n",
       "      <th>1</th>\n",
       "      <td>Sex</td>\n",
       "      <td>0</td>\n",
       "    </tr>\n",
       "    <tr>\n",
       "      <th>2</th>\n",
       "      <td>Ticket</td>\n",
       "      <td>0</td>\n",
       "    </tr>\n",
       "    <tr>\n",
       "      <th>3</th>\n",
       "      <td>Cabin</td>\n",
       "      <td>0</td>\n",
       "    </tr>\n",
       "    <tr>\n",
       "      <th>4</th>\n",
       "      <td>Embarked</td>\n",
       "      <td>0</td>\n",
       "    </tr>\n",
       "  </tbody>\n",
       "</table>\n",
       "</div>"
      ],
      "text/plain": [
       "       cols  val\n",
       "0      Name    0\n",
       "1       Sex    0\n",
       "2    Ticket    0\n",
       "3     Cabin    0\n",
       "4  Embarked    0"
      ]
     },
     "execution_count": 17,
     "metadata": {},
     "output_type": "execute_result"
    }
   ],
   "source": [
    "cols = []\n",
    "val = []\n",
    "for col in data.select_dtypes(include='object').columns:\n",
    "    cols.append(col)\n",
    "    val.append(data[col].str.contains(r'\\?').sum())\n",
    "pd.DataFrame({\n",
    "    'cols':cols,\n",
    "    'val':val\n",
    "})"
   ]
  },
  {
   "cell_type": "code",
   "execution_count": 154,
   "id": "6773e3fd",
   "metadata": {
    "scrolled": false
   },
   "outputs": [
    {
     "data": {
      "text/plain": [
       "PassengerId     0\n",
       "Survived        0\n",
       "Pclass          0\n",
       "Name            0\n",
       "Sex            51\n",
       "Age            25\n",
       "SibSp           3\n",
       "Parch          12\n",
       "Ticket          0\n",
       "Fare            8\n",
       "Cabin           0\n",
       "Embarked       12\n",
       "dtype: int64"
      ]
     },
     "execution_count": 154,
     "metadata": {},
     "output_type": "execute_result"
    }
   ],
   "source": [
    "data.isna().sum()"
   ]
  },
  {
   "cell_type": "markdown",
   "id": "55d36d73",
   "metadata": {},
   "source": [
    "### Inciso 2"
   ]
  },
  {
   "cell_type": "markdown",
   "id": "4e38184f",
   "metadata": {},
   "source": [
    "**Survived:** En esta columna no hay ningún missing value"
   ]
  },
  {
   "cell_type": "markdown",
   "id": "2a40e3fa",
   "metadata": {},
   "source": [
    "**Pclass:** En esta columna no hay ningún missing value"
   ]
  },
  {
   "cell_type": "markdown",
   "id": "233a1936",
   "metadata": {},
   "source": [
    "**Name:** En esta columna no hay ningún missing value"
   ]
  },
  {
   "cell_type": "markdown",
   "id": "26157d40",
   "metadata": {},
   "source": [
    "**Sex:** Para esta columna pienso realizar una imputación sectorizada según la columna survived, pues es más probable que una mujer sobreviviera que un hombe"
   ]
  },
  {
   "cell_type": "markdown",
   "id": "4fb60b14",
   "metadata": {},
   "source": [
    "**Age:** Para esta columna considero que utilizr una regresión lineal, utilizando Fare para la predicción del modelo"
   ]
  },
  {
   "cell_type": "markdown",
   "id": "9b8f995b",
   "metadata": {},
   "source": [
    "**SibSp:** Para esta columna pienso utilizar una inserción por promedio de la columna, aproximando el valor hacia abajo, porque es un número exacto"
   ]
  },
  {
   "cell_type": "markdown",
   "id": "6e6b13eb",
   "metadata": {},
   "source": [
    "**Parch:** Similar a SibSp pienso utilizar una inserción por promedio de la columna, aproximando el valor hacia abajo, porque es un número exacto"
   ]
  },
  {
   "cell_type": "markdown",
   "id": "60297b1f",
   "metadata": {},
   "source": [
    "**Ticket:** En esta columna no hay ningún missing values"
   ]
  },
  {
   "cell_type": "markdown",
   "id": "47784f80",
   "metadata": {},
   "source": [
    "**Fare:** En esta columna pienso utilizar una imputación sectorizada de la media según clase, pues es el costo promedio de que se pagaba según la clase y parte del barco en la que el pasajero estaba (1 para la más alta, 2 para media y 3 para clase baja)"
   ]
  },
  {
   "cell_type": "markdown",
   "id": "f2717174",
   "metadata": {},
   "source": [
    "**Cabin:**  En esta columna no hay ningún missing values"
   ]
  },
  {
   "cell_type": "markdown",
   "id": "5a1dfb09",
   "metadata": {},
   "source": [
    "**Embarked:** Para esta columna pienso utilizar una imputación según la moda, pues al ser vuna variable categórica de texto (Char) es lo que considero más práctico. "
   ]
  },
  {
   "cell_type": "markdown",
   "id": "bb67d4da",
   "metadata": {},
   "source": [
    "### Incico 3"
   ]
  },
  {
   "cell_type": "code",
   "execution_count": 144,
   "id": "145b5c20",
   "metadata": {},
   "outputs": [
    {
     "name": "stdout",
     "output_type": "stream",
     "text": [
      "En total hay 100 filas completas\n"
     ]
    }
   ],
   "source": [
    "contador = 0\n",
    "for ind in data.index:\n",
    "        if isNaN(data['Sex'][ind]) == False and isNaN(data['Age'][ind]) == False and isNaN(data['SibSp'][ind]) == False and isNaN(data['Parch'][ind]) == False and isNaN(data['Fare'][ind]) == False and isNaN(data['Embarked'][ind]) == False:\n",
    "            contador += 1\n",
    "print(\"En total hay \" + str(contador) + \" filas completas\")        "
   ]
  },
  {
   "cell_type": "markdown",
   "id": "04c61112",
   "metadata": {},
   "source": [
    "### Inciso 4"
   ]
  },
  {
   "cell_type": "code",
   "execution_count": 46,
   "id": "90180a82",
   "metadata": {},
   "outputs": [],
   "source": [
    "def isNaN(value):\n",
    "    return value != value"
   ]
  },
  {
   "cell_type": "code",
   "execution_count": 100,
   "id": "7b7a9c56",
   "metadata": {},
   "outputs": [],
   "source": [
    "def regression(column1, column2):\n",
    "    dataRegression[column1].fillna(dataRegression[column1].mean(), inplace=True)\n",
    "    dataRegression[column2].fillna(dataRegression[column2].mean(), inplace=True)\n",
    "    lm = LinearRegression()\n",
    "    lm = lm.fit(dataRegression[[column2]], dataRegression[column1])\n",
    "    dataRegression[column1+\"_lm\"] = lm.predict(dataRegression[[column2]])"
   ]
  },
  {
   "cell_type": "code",
   "execution_count": 48,
   "id": "ec9b4d63",
   "metadata": {},
   "outputs": [],
   "source": [
    "def getMean(column):\n",
    "    return data[column].mean()"
   ]
  },
  {
   "cell_type": "code",
   "execution_count": 49,
   "id": "508bcd0b",
   "metadata": {},
   "outputs": [],
   "source": [
    "def getMedian(column):\n",
    "    return data[column].median()"
   ]
  },
  {
   "cell_type": "code",
   "execution_count": 50,
   "id": "8ad062d5",
   "metadata": {},
   "outputs": [],
   "source": [
    "def getMode(column):\n",
    "    return data[column].mode"
   ]
  },
  {
   "cell_type": "markdown",
   "id": "9c5846e4",
   "metadata": {},
   "source": [
    "**Imputación por mediana** *No incluiré las variables categoricas de texto (Sex, Embarked)*"
   ]
  },
  {
   "cell_type": "code",
   "execution_count": 82,
   "id": "689f6683",
   "metadata": {},
   "outputs": [],
   "source": [
    "dataMean.loc[dataMean[\"Age\"].isna(), \"Age\"] = getMean('Age')"
   ]
  },
  {
   "cell_type": "code",
   "execution_count": 83,
   "id": "d6f3b8bc",
   "metadata": {},
   "outputs": [],
   "source": [
    "dataMean.loc[dataMean[\"SibSp\"].isna(), \"SibSp\"] = math.floor(getMean('SibSp'))"
   ]
  },
  {
   "cell_type": "code",
   "execution_count": 84,
   "id": "c096ff1f",
   "metadata": {},
   "outputs": [],
   "source": [
    "dataMean.loc[dataMean[\"Parch\"].isna(), \"Parch\"] = math.floor(getMean('Parch'))"
   ]
  },
  {
   "cell_type": "code",
   "execution_count": 85,
   "id": "65d504fc",
   "metadata": {},
   "outputs": [],
   "source": [
    "dataMean.loc[dataMean[\"Fare\"].isna(), \"Fare\"] = getMean('Fare')"
   ]
  },
  {
   "cell_type": "code",
   "execution_count": 86,
   "id": "9c646aa2",
   "metadata": {
    "scrolled": false
   },
   "outputs": [
    {
     "data": {
      "text/plain": [
       "PassengerId     0\n",
       "Survived        0\n",
       "Pclass          0\n",
       "Name            0\n",
       "Sex            51\n",
       "Age             0\n",
       "SibSp           0\n",
       "Parch           0\n",
       "Ticket          0\n",
       "Fare            0\n",
       "Cabin           0\n",
       "Embarked       12\n",
       "dtype: int64"
      ]
     },
     "execution_count": 86,
     "metadata": {},
     "output_type": "execute_result"
    }
   ],
   "source": [
    "dataMean.isna().sum()"
   ]
  },
  {
   "cell_type": "markdown",
   "id": "accc7c41",
   "metadata": {},
   "source": [
    "**Imputación por mediana** *No incluiré las variables categoricas de texto (Sex, Embarked)*"
   ]
  },
  {
   "cell_type": "code",
   "execution_count": 87,
   "id": "47b8613b",
   "metadata": {},
   "outputs": [],
   "source": [
    "dataMedian.loc[dataMedian[\"Age\"].isna(), \"Age\"] = getMedian('Age')"
   ]
  },
  {
   "cell_type": "code",
   "execution_count": 88,
   "id": "03bbae9d",
   "metadata": {},
   "outputs": [],
   "source": [
    "dataMedian.loc[dataMedian[\"SibSp\"].isna(), \"SibSp\"] = math.floor(getMedian('SibSp'))"
   ]
  },
  {
   "cell_type": "code",
   "execution_count": 89,
   "id": "61ca7f31",
   "metadata": {},
   "outputs": [],
   "source": [
    "dataMedian.loc[dataMedian[\"Parch\"].isna(), \"Parch\"] = math.floor(getMedian('Parch'))"
   ]
  },
  {
   "cell_type": "code",
   "execution_count": 90,
   "id": "5c3ea378",
   "metadata": {},
   "outputs": [],
   "source": [
    "dataMedian.loc[dataMedian[\"Fare\"].isna(), \"Fare\"] = getMedian('Fare')"
   ]
  },
  {
   "cell_type": "code",
   "execution_count": 91,
   "id": "935baee8",
   "metadata": {
    "scrolled": false
   },
   "outputs": [
    {
     "data": {
      "text/plain": [
       "PassengerId     0\n",
       "Survived        0\n",
       "Pclass          0\n",
       "Name            0\n",
       "Sex            51\n",
       "Age             0\n",
       "SibSp           0\n",
       "Parch           0\n",
       "Ticket          0\n",
       "Fare            0\n",
       "Cabin           0\n",
       "Embarked       12\n",
       "dtype: int64"
      ]
     },
     "execution_count": 91,
     "metadata": {},
     "output_type": "execute_result"
    }
   ],
   "source": [
    "dataMedian.isna().sum()"
   ]
  },
  {
   "cell_type": "markdown",
   "id": "aa463b0c",
   "metadata": {},
   "source": [
    "**Imputación por moda**  *No incluiré las variables numericas (Age, SipSp, Parch, Fare)*"
   ]
  },
  {
   "cell_type": "code",
   "execution_count": 92,
   "id": "dec885ef",
   "metadata": {},
   "outputs": [],
   "source": [
    "dataMode.loc[dataMode[\"Sex\"].isna(), \"Sex\"] = getMode('Sex')"
   ]
  },
  {
   "cell_type": "code",
   "execution_count": 121,
   "id": "cb0da5d5",
   "metadata": {},
   "outputs": [],
   "source": [
    "dataMode.loc[dataMode[\"Embarked\"].isna(), \"Embarked\"] = getMode('Embarked')"
   ]
  },
  {
   "cell_type": "code",
   "execution_count": 122,
   "id": "20c65061",
   "metadata": {
    "scrolled": true
   },
   "outputs": [
    {
     "data": {
      "text/plain": [
       "PassengerId     0\n",
       "Survived        0\n",
       "Pclass          0\n",
       "Name            0\n",
       "Sex             0\n",
       "Age            25\n",
       "SibSp           3\n",
       "Parch          12\n",
       "Ticket          0\n",
       "Fare            8\n",
       "Cabin           0\n",
       "Embarked        0\n",
       "dtype: int64"
      ]
     },
     "execution_count": 122,
     "metadata": {},
     "output_type": "execute_result"
    }
   ],
   "source": [
    "dataMode.isna().sum()"
   ]
  },
  {
   "cell_type": "markdown",
   "id": "82f26cc9",
   "metadata": {},
   "source": [
    "**Imputación por predicción: Regresión Lineal**  No incluiré las variables categoricas de texto (Sex, Embarked)"
   ]
  },
  {
   "cell_type": "code",
   "execution_count": 101,
   "id": "395c0ed8",
   "metadata": {
    "scrolled": true
   },
   "outputs": [],
   "source": [
    "regression('Age','Fare')"
   ]
  },
  {
   "cell_type": "code",
   "execution_count": 104,
   "id": "e19d0672",
   "metadata": {},
   "outputs": [],
   "source": [
    "regression('SibSp','Age')"
   ]
  },
  {
   "cell_type": "code",
   "execution_count": 169,
   "id": "123e6850",
   "metadata": {},
   "outputs": [],
   "source": [
    "regression('Parch','Age')"
   ]
  },
  {
   "cell_type": "code",
   "execution_count": 170,
   "id": "a7849770",
   "metadata": {
    "scrolled": false
   },
   "outputs": [
    {
     "data": {
      "text/plain": [
       "PassengerId     0\n",
       "Survived        0\n",
       "Pclass          0\n",
       "Name            0\n",
       "Sex            51\n",
       "Age             0\n",
       "SibSp           0\n",
       "Parch           0\n",
       "Ticket          0\n",
       "Fare            0\n",
       "Cabin           0\n",
       "Embarked       12\n",
       "Age_lm          0\n",
       "SibSp_lm        0\n",
       "Parch_lm        0\n",
       "dtype: int64"
      ]
     },
     "execution_count": 170,
     "metadata": {},
     "output_type": "execute_result"
    }
   ],
   "source": [
    "dataRegression.isna().sum()"
   ]
  },
  {
   "cell_type": "markdown",
   "id": "46cb15f3",
   "metadata": {},
   "source": [
    "**Fare se vió afectada por la primera regresión**"
   ]
  },
  {
   "cell_type": "code",
   "execution_count": 112,
   "id": "728a1233",
   "metadata": {},
   "outputs": [],
   "source": [
    "data.loc[data[\"Age\"].isna(), \"Age\"] = getMean('Age')"
   ]
  },
  {
   "cell_type": "code",
   "execution_count": 114,
   "id": "0e50f4bf",
   "metadata": {},
   "outputs": [],
   "source": [
    "data.loc[data[\"SibSp\"].isna(), \"SibSp\"] = math.floor(getMean('SibSp'))"
   ]
  },
  {
   "cell_type": "code",
   "execution_count": 116,
   "id": "cc2f6071",
   "metadata": {},
   "outputs": [],
   "source": [
    "data.loc[data[\"Parch\"].isna(), \"Parch\"] = math.floor(getMean('Parch'))"
   ]
  },
  {
   "cell_type": "code",
   "execution_count": 117,
   "id": "bb5c1119",
   "metadata": {},
   "outputs": [],
   "source": [
    "data.loc[data[\"Fare\"].isna(), \"Fare\"] = getMean('Fare')"
   ]
  },
  {
   "cell_type": "code",
   "execution_count": 118,
   "id": "c91a2194",
   "metadata": {},
   "outputs": [],
   "source": [
    "data.loc[data[\"Sex\"].isna(), \"Sex\"] = getMode('Sex')"
   ]
  },
  {
   "cell_type": "code",
   "execution_count": 123,
   "id": "8efa0298",
   "metadata": {},
   "outputs": [],
   "source": [
    "data.loc[data[\"Embarked\"].isna(), \"Embarked\"] = getMode('Age')"
   ]
  },
  {
   "cell_type": "code",
   "execution_count": 124,
   "id": "c03a7143",
   "metadata": {
    "scrolled": true
   },
   "outputs": [
    {
     "data": {
      "text/plain": [
       "PassengerId    0\n",
       "Survived       0\n",
       "Pclass         0\n",
       "Name           0\n",
       "Sex            0\n",
       "Age            0\n",
       "SibSp          0\n",
       "Parch          0\n",
       "Ticket         0\n",
       "Fare           0\n",
       "Cabin          0\n",
       "Embarked       0\n",
       "dtype: int64"
      ]
     },
     "execution_count": 124,
     "metadata": {},
     "output_type": "execute_result"
    }
   ],
   "source": [
    "data.isna().sum()"
   ]
  },
  {
   "cell_type": "markdown",
   "id": "3ea59fd5",
   "metadata": {},
   "source": [
    "**Outliers** "
   ]
  },
  {
   "cell_type": "markdown",
   "id": "99e325cf",
   "metadata": {},
   "source": [
    "**Columna: Age**"
   ]
  },
  {
   "cell_type": "code",
   "execution_count": 131,
   "id": "a37472d5",
   "metadata": {},
   "outputs": [
    {
     "name": "stdout",
     "output_type": "stream",
     "text": [
      "Lower value: 6.6386145117183375\n",
      "Upper value: 64.74644877942094\n"
     ]
    }
   ],
   "source": [
    "f = 2\n",
    "xl = data['Age'].mean() - (data['Age'].std() * f)\n",
    "xu = data['Age'].mean() + (data['Age'].std() * f)\n",
    "print('Lower value:', xl)\n",
    "print('Upper value:', xu)"
   ]
  },
  {
   "cell_type": "code",
   "execution_count": 132,
   "id": "30ce88a2",
   "metadata": {},
   "outputs": [
    {
     "data": {
      "text/plain": [
       "<AxesSubplot:xlabel='PassengerId', ylabel='Age'>"
      ]
     },
     "execution_count": 132,
     "metadata": {},
     "output_type": "execute_result"
    },
    {
     "data": {
      "image/png": "[encoded data removed]",
      "text/plain": [
       "<Figure size 432x288 with 1 Axes>"
      ]
     },
     "metadata": {
      "needs_background": "light"
     },
     "output_type": "display_data"
    }
   ],
   "source": [
    "sns.scatterplot(x = data['PassengerId'], y = data['Age'])\n",
    "sns.lineplot(x = data['PassengerId'], y = xl, color = 'green')\n",
    "sns.lineplot(x = data['PassengerId'], y = xu, color = 'orange')"
   ]
  },
  {
   "cell_type": "code",
   "execution_count": 133,
   "id": "22cec714",
   "metadata": {},
   "outputs": [],
   "source": [
    "df_sd = data[(data['Age']>=xl) & (data['Age']<=xu)]"
   ]
  },
  {
   "cell_type": "code",
   "execution_count": 134,
   "id": "bc92f57f",
   "metadata": {},
   "outputs": [
    {
     "data": {
      "text/html": [
       "<div>\n",
       "<style scoped>\n",
       "    .dataframe tbody tr th:only-of-type {\n",
       "        vertical-align: middle;\n",
       "    }\n",
       "\n",
       "    .dataframe tbody tr th {\n",
       "        vertical-align: top;\n",
       "    }\n",
       "\n",
       "    .dataframe thead th {\n",
       "        text-align: right;\n",
       "    }\n",
       "</style>\n",
       "<table border=\"1\" class=\"dataframe\">\n",
       "  <thead>\n",
       "    <tr style=\"text-align: right;\">\n",
       "      <th></th>\n",
       "      <th>Age</th>\n",
       "    </tr>\n",
       "  </thead>\n",
       "  <tbody>\n",
       "    <tr>\n",
       "      <th>count</th>\n",
       "      <td>171.000000</td>\n",
       "    </tr>\n",
       "    <tr>\n",
       "      <th>unique</th>\n",
       "      <td>50.000000</td>\n",
       "    </tr>\n",
       "    <tr>\n",
       "      <th>top</th>\n",
       "      <td>35.692532</td>\n",
       "    </tr>\n",
       "    <tr>\n",
       "      <th>freq</th>\n",
       "      <td>25.000000</td>\n",
       "    </tr>\n",
       "  </tbody>\n",
       "</table>\n",
       "</div>"
      ],
      "text/plain": [
       "               Age\n",
       "count   171.000000\n",
       "unique   50.000000\n",
       "top      35.692532\n",
       "freq     25.000000"
      ]
     },
     "execution_count": 134,
     "metadata": {},
     "output_type": "execute_result"
    }
   ],
   "source": [
    "df_sd[['Age']].describe()"
   ]
  },
  {
   "cell_type": "markdown",
   "id": "540738e9",
   "metadata": {},
   "source": [
    "Now we need to ***cap*** the values in the limits"
   ]
  },
  {
   "cell_type": "code",
   "execution_count": 136,
   "id": "926868a8",
   "metadata": {},
   "outputs": [],
   "source": [
    "data['Age_sd'] = np.where(\n",
    "    data['Age']<xl,\n",
    "    xl,\n",
    "    np.where(\n",
    "        data['Age']>xu,\n",
    "        xu,\n",
    "        data['Age']\n",
    "    )\n",
    ")"
   ]
  },
  {
   "cell_type": "code",
   "execution_count": 137,
   "id": "7695fb1d",
   "metadata": {
    "scrolled": false
   },
   "outputs": [
    {
     "data": {
      "text/html": [
       "<div>\n",
       "<style scoped>\n",
       "    .dataframe tbody tr th:only-of-type {\n",
       "        vertical-align: middle;\n",
       "    }\n",
       "\n",
       "    .dataframe tbody tr th {\n",
       "        vertical-align: top;\n",
       "    }\n",
       "\n",
       "    .dataframe thead th {\n",
       "        text-align: right;\n",
       "    }\n",
       "</style>\n",
       "<table border=\"1\" class=\"dataframe\">\n",
       "  <thead>\n",
       "    <tr style=\"text-align: right;\">\n",
       "      <th></th>\n",
       "      <th>Age</th>\n",
       "      <th>Age_sd</th>\n",
       "    </tr>\n",
       "  </thead>\n",
       "  <tbody>\n",
       "    <tr>\n",
       "      <th>count</th>\n",
       "      <td>183.000000</td>\n",
       "      <td>183.000000</td>\n",
       "    </tr>\n",
       "    <tr>\n",
       "      <th>unique</th>\n",
       "      <td>59.000000</td>\n",
       "      <td>52.000000</td>\n",
       "    </tr>\n",
       "    <tr>\n",
       "      <th>top</th>\n",
       "      <td>35.692532</td>\n",
       "      <td>35.692532</td>\n",
       "    </tr>\n",
       "    <tr>\n",
       "      <th>freq</th>\n",
       "      <td>25.000000</td>\n",
       "      <td>25.000000</td>\n",
       "    </tr>\n",
       "  </tbody>\n",
       "</table>\n",
       "</div>"
      ],
      "text/plain": [
       "               Age      Age_sd\n",
       "count   183.000000  183.000000\n",
       "unique   59.000000   52.000000\n",
       "top      35.692532   35.692532\n",
       "freq     25.000000   25.000000"
      ]
     },
     "execution_count": 137,
     "metadata": {},
     "output_type": "execute_result"
    }
   ],
   "source": [
    "data[['Age', 'Age_sd']].describe()"
   ]
  },
  {
   "cell_type": "markdown",
   "id": "ebbd32af",
   "metadata": {},
   "source": [
    "**Columna: SibSp**"
   ]
  },
  {
   "cell_type": "code",
   "execution_count": 138,
   "id": "40cc969d",
   "metadata": {},
   "outputs": [
    {
     "name": "stdout",
     "output_type": "stream",
     "text": [
      "Lower value: -0.833366130510067\n",
      "Upper value: 1.7404699556466792\n"
     ]
    }
   ],
   "source": [
    "f = 2\n",
    "xl = data['SibSp'].mean() - (data['SibSp'].std() * f)\n",
    "xu = data['SibSp'].mean() + (data['SibSp'].std() * f)\n",
    "print('Lower value:', xl)\n",
    "print('Upper value:', xu)"
   ]
  },
  {
   "cell_type": "code",
   "execution_count": 139,
   "id": "9cbd806e",
   "metadata": {},
   "outputs": [
    {
     "data": {
      "text/plain": [
       "<AxesSubplot:xlabel='PassengerId', ylabel='SibSp'>"
      ]
     },
     "execution_count": 139,
     "metadata": {},
     "output_type": "execute_result"
    },
    {
     "data": {
      "image/png": "[encoded data removed]",
      "text/plain": [
       "<Figure size 432x288 with 1 Axes>"
      ]
     },
     "metadata": {
      "needs_background": "light"
     },
     "output_type": "display_data"
    }
   ],
   "source": [
    "sns.scatterplot(x = data['PassengerId'], y = data['SibSp'])\n",
    "sns.lineplot(x = data['PassengerId'], y = xl, color = 'green')\n",
    "sns.lineplot(x = data['PassengerId'], y = xu, color = 'orange')"
   ]
  },
  {
   "cell_type": "code",
   "execution_count": 140,
   "id": "df3e8c63",
   "metadata": {},
   "outputs": [],
   "source": [
    "df_sd = data[(data['SibSp']>=xl) & (data['SibSp']<=xu)]"
   ]
  },
  {
   "cell_type": "code",
   "execution_count": 141,
   "id": "1d10d92d",
   "metadata": {},
   "outputs": [
    {
     "data": {
      "text/html": [
       "<div>\n",
       "<style scoped>\n",
       "    .dataframe tbody tr th:only-of-type {\n",
       "        vertical-align: middle;\n",
       "    }\n",
       "\n",
       "    .dataframe tbody tr th {\n",
       "        vertical-align: top;\n",
       "    }\n",
       "\n",
       "    .dataframe thead th {\n",
       "        text-align: right;\n",
       "    }\n",
       "</style>\n",
       "<table border=\"1\" class=\"dataframe\">\n",
       "  <thead>\n",
       "    <tr style=\"text-align: right;\">\n",
       "      <th></th>\n",
       "      <th>SibSp</th>\n",
       "    </tr>\n",
       "  </thead>\n",
       "  <tbody>\n",
       "    <tr>\n",
       "      <th>count</th>\n",
       "      <td>174.000000</td>\n",
       "    </tr>\n",
       "    <tr>\n",
       "      <th>mean</th>\n",
       "      <td>0.356322</td>\n",
       "    </tr>\n",
       "    <tr>\n",
       "      <th>std</th>\n",
       "      <td>0.480294</td>\n",
       "    </tr>\n",
       "    <tr>\n",
       "      <th>min</th>\n",
       "      <td>0.000000</td>\n",
       "    </tr>\n",
       "    <tr>\n",
       "      <th>25%</th>\n",
       "      <td>0.000000</td>\n",
       "    </tr>\n",
       "    <tr>\n",
       "      <th>50%</th>\n",
       "      <td>0.000000</td>\n",
       "    </tr>\n",
       "    <tr>\n",
       "      <th>75%</th>\n",
       "      <td>1.000000</td>\n",
       "    </tr>\n",
       "    <tr>\n",
       "      <th>max</th>\n",
       "      <td>1.000000</td>\n",
       "    </tr>\n",
       "  </tbody>\n",
       "</table>\n",
       "</div>"
      ],
      "text/plain": [
       "            SibSp\n",
       "count  174.000000\n",
       "mean     0.356322\n",
       "std      0.480294\n",
       "min      0.000000\n",
       "25%      0.000000\n",
       "50%      0.000000\n",
       "75%      1.000000\n",
       "max      1.000000"
      ]
     },
     "execution_count": 141,
     "metadata": {},
     "output_type": "execute_result"
    }
   ],
   "source": [
    "df_sd[['SibSp']].describe()"
   ]
  },
  {
   "cell_type": "markdown",
   "id": "f16f0344",
   "metadata": {},
   "source": [
    "Now we need to ***cap*** the values in the limits"
   ]
  },
  {
   "cell_type": "code",
   "execution_count": 142,
   "id": "dbae40b9",
   "metadata": {},
   "outputs": [],
   "source": [
    "data['SibSp_sd'] = np.where(\n",
    "    data['SibSp']<xl,\n",
    "    xl,\n",
    "    np.where(\n",
    "        data['SibSp']>xu,\n",
    "        xu,\n",
    "        data['SibSp']\n",
    "    )\n",
    ")"
   ]
  },
  {
   "cell_type": "code",
   "execution_count": 143,
   "id": "8534fb98",
   "metadata": {
    "scrolled": true
   },
   "outputs": [
    {
     "data": {
      "text/html": [
       "<div>\n",
       "<style scoped>\n",
       "    .dataframe tbody tr th:only-of-type {\n",
       "        vertical-align: middle;\n",
       "    }\n",
       "\n",
       "    .dataframe tbody tr th {\n",
       "        vertical-align: top;\n",
       "    }\n",
       "\n",
       "    .dataframe thead th {\n",
       "        text-align: right;\n",
       "    }\n",
       "</style>\n",
       "<table border=\"1\" class=\"dataframe\">\n",
       "  <thead>\n",
       "    <tr style=\"text-align: right;\">\n",
       "      <th></th>\n",
       "      <th>SibSp</th>\n",
       "      <th>SibSp_sd</th>\n",
       "    </tr>\n",
       "  </thead>\n",
       "  <tbody>\n",
       "    <tr>\n",
       "      <th>count</th>\n",
       "      <td>183.000000</td>\n",
       "      <td>183.000000</td>\n",
       "    </tr>\n",
       "    <tr>\n",
       "      <th>mean</th>\n",
       "      <td>0.453552</td>\n",
       "      <td>0.424395</td>\n",
       "    </tr>\n",
       "    <tr>\n",
       "      <th>std</th>\n",
       "      <td>0.643459</td>\n",
       "      <td>0.556198</td>\n",
       "    </tr>\n",
       "    <tr>\n",
       "      <th>min</th>\n",
       "      <td>0.000000</td>\n",
       "      <td>0.000000</td>\n",
       "    </tr>\n",
       "    <tr>\n",
       "      <th>25%</th>\n",
       "      <td>0.000000</td>\n",
       "      <td>0.000000</td>\n",
       "    </tr>\n",
       "    <tr>\n",
       "      <th>50%</th>\n",
       "      <td>0.000000</td>\n",
       "      <td>0.000000</td>\n",
       "    </tr>\n",
       "    <tr>\n",
       "      <th>75%</th>\n",
       "      <td>1.000000</td>\n",
       "      <td>1.000000</td>\n",
       "    </tr>\n",
       "    <tr>\n",
       "      <th>max</th>\n",
       "      <td>3.000000</td>\n",
       "      <td>1.740470</td>\n",
       "    </tr>\n",
       "  </tbody>\n",
       "</table>\n",
       "</div>"
      ],
      "text/plain": [
       "            SibSp    SibSp_sd\n",
       "count  183.000000  183.000000\n",
       "mean     0.453552    0.424395\n",
       "std      0.643459    0.556198\n",
       "min      0.000000    0.000000\n",
       "25%      0.000000    0.000000\n",
       "50%      0.000000    0.000000\n",
       "75%      1.000000    1.000000\n",
       "max      3.000000    1.740470"
      ]
     },
     "execution_count": 143,
     "metadata": {},
     "output_type": "execute_result"
    }
   ],
   "source": [
    "data[['SibSp', 'SibSp_sd']].describe()"
   ]
  },
  {
   "cell_type": "markdown",
   "id": "4521380b",
   "metadata": {},
   "source": [
    "**Columna: Parch**"
   ]
  },
  {
   "cell_type": "code",
   "execution_count": 144,
   "id": "48e1337f",
   "metadata": {},
   "outputs": [
    {
     "name": "stdout",
     "output_type": "stream",
     "text": [
      "Lower value: -1.0425998434772266\n",
      "Upper value: 1.9059878216193031\n"
     ]
    }
   ],
   "source": [
    "f = 2\n",
    "xl = data['Parch'].mean() - (data['Parch'].std() * f)\n",
    "xu = data['Parch'].mean() + (data['Parch'].std() * f)\n",
    "print('Lower value:', xl)\n",
    "print('Upper value:', xu)"
   ]
  },
  {
   "cell_type": "code",
   "execution_count": 145,
   "id": "908217d7",
   "metadata": {},
   "outputs": [
    {
     "data": {
      "text/plain": [
       "<AxesSubplot:xlabel='PassengerId', ylabel='Parch'>"
      ]
     },
     "execution_count": 145,
     "metadata": {},
     "output_type": "execute_result"
    },
    {
     "data": {
      "image/png": "[encoded data removed]",
      "text/plain": [
       "<Figure size 432x288 with 1 Axes>"
      ]
     },
     "metadata": {
      "needs_background": "light"
     },
     "output_type": "display_data"
    }
   ],
   "source": [
    "sns.scatterplot(x = data['PassengerId'], y = data['Parch'])\n",
    "sns.lineplot(x = data['PassengerId'], y = xl, color = 'green')\n",
    "sns.lineplot(x = data['PassengerId'], y = xu, color = 'orange')"
   ]
  },
  {
   "cell_type": "code",
   "execution_count": 146,
   "id": "0fbf27c9",
   "metadata": {},
   "outputs": [],
   "source": [
    "df_sd = data[(data['Parch']>=xl) & (data['Parch']<=xu)]"
   ]
  },
  {
   "cell_type": "code",
   "execution_count": 147,
   "id": "d4f9352a",
   "metadata": {},
   "outputs": [
    {
     "data": {
      "text/html": [
       "<div>\n",
       "<style scoped>\n",
       "    .dataframe tbody tr th:only-of-type {\n",
       "        vertical-align: middle;\n",
       "    }\n",
       "\n",
       "    .dataframe tbody tr th {\n",
       "        vertical-align: top;\n",
       "    }\n",
       "\n",
       "    .dataframe thead th {\n",
       "        text-align: right;\n",
       "    }\n",
       "</style>\n",
       "<table border=\"1\" class=\"dataframe\">\n",
       "  <thead>\n",
       "    <tr style=\"text-align: right;\">\n",
       "      <th></th>\n",
       "      <th>Parch</th>\n",
       "    </tr>\n",
       "  </thead>\n",
       "  <tbody>\n",
       "    <tr>\n",
       "      <th>count</th>\n",
       "      <td>161.000000</td>\n",
       "    </tr>\n",
       "    <tr>\n",
       "      <th>mean</th>\n",
       "      <td>0.204969</td>\n",
       "    </tr>\n",
       "    <tr>\n",
       "      <th>std</th>\n",
       "      <td>0.404938</td>\n",
       "    </tr>\n",
       "    <tr>\n",
       "      <th>min</th>\n",
       "      <td>0.000000</td>\n",
       "    </tr>\n",
       "    <tr>\n",
       "      <th>25%</th>\n",
       "      <td>0.000000</td>\n",
       "    </tr>\n",
       "    <tr>\n",
       "      <th>50%</th>\n",
       "      <td>0.000000</td>\n",
       "    </tr>\n",
       "    <tr>\n",
       "      <th>75%</th>\n",
       "      <td>0.000000</td>\n",
       "    </tr>\n",
       "    <tr>\n",
       "      <th>max</th>\n",
       "      <td>1.000000</td>\n",
       "    </tr>\n",
       "  </tbody>\n",
       "</table>\n",
       "</div>"
      ],
      "text/plain": [
       "            Parch\n",
       "count  161.000000\n",
       "mean     0.204969\n",
       "std      0.404938\n",
       "min      0.000000\n",
       "25%      0.000000\n",
       "50%      0.000000\n",
       "75%      0.000000\n",
       "max      1.000000"
      ]
     },
     "execution_count": 147,
     "metadata": {},
     "output_type": "execute_result"
    }
   ],
   "source": [
    "df_sd[['Parch']].describe()"
   ]
  },
  {
   "cell_type": "markdown",
   "id": "8deeaac2",
   "metadata": {},
   "source": [
    "Now we need to ***cap*** the values in the limits"
   ]
  },
  {
   "cell_type": "code",
   "execution_count": 148,
   "id": "26440cbd",
   "metadata": {},
   "outputs": [],
   "source": [
    "data['Parch_sd'] = np.where(\n",
    "    data['Parch']<xl,\n",
    "    xl,\n",
    "    np.where(\n",
    "        data['Parch']>xu,\n",
    "        xu,\n",
    "        data['Parch']\n",
    "    )\n",
    ")"
   ]
  },
  {
   "cell_type": "code",
   "execution_count": 149,
   "id": "33430c92",
   "metadata": {
    "scrolled": false
   },
   "outputs": [
    {
     "data": {
      "text/html": [
       "<div>\n",
       "<style scoped>\n",
       "    .dataframe tbody tr th:only-of-type {\n",
       "        vertical-align: middle;\n",
       "    }\n",
       "\n",
       "    .dataframe tbody tr th {\n",
       "        vertical-align: top;\n",
       "    }\n",
       "\n",
       "    .dataframe thead th {\n",
       "        text-align: right;\n",
       "    }\n",
       "</style>\n",
       "<table border=\"1\" class=\"dataframe\">\n",
       "  <thead>\n",
       "    <tr style=\"text-align: right;\">\n",
       "      <th></th>\n",
       "      <th>Parch</th>\n",
       "      <th>Parch_sd</th>\n",
       "    </tr>\n",
       "  </thead>\n",
       "  <tbody>\n",
       "    <tr>\n",
       "      <th>count</th>\n",
       "      <td>183.000000</td>\n",
       "      <td>183.000000</td>\n",
       "    </tr>\n",
       "    <tr>\n",
       "      <th>mean</th>\n",
       "      <td>0.431694</td>\n",
       "      <td>0.409463</td>\n",
       "    </tr>\n",
       "    <tr>\n",
       "      <th>std</th>\n",
       "      <td>0.737147</td>\n",
       "      <td>0.672210</td>\n",
       "    </tr>\n",
       "    <tr>\n",
       "      <th>min</th>\n",
       "      <td>0.000000</td>\n",
       "      <td>0.000000</td>\n",
       "    </tr>\n",
       "    <tr>\n",
       "      <th>25%</th>\n",
       "      <td>0.000000</td>\n",
       "      <td>0.000000</td>\n",
       "    </tr>\n",
       "    <tr>\n",
       "      <th>50%</th>\n",
       "      <td>0.000000</td>\n",
       "      <td>0.000000</td>\n",
       "    </tr>\n",
       "    <tr>\n",
       "      <th>75%</th>\n",
       "      <td>1.000000</td>\n",
       "      <td>1.000000</td>\n",
       "    </tr>\n",
       "    <tr>\n",
       "      <th>max</th>\n",
       "      <td>4.000000</td>\n",
       "      <td>1.905988</td>\n",
       "    </tr>\n",
       "  </tbody>\n",
       "</table>\n",
       "</div>"
      ],
      "text/plain": [
       "            Parch    Parch_sd\n",
       "count  183.000000  183.000000\n",
       "mean     0.431694    0.409463\n",
       "std      0.737147    0.672210\n",
       "min      0.000000    0.000000\n",
       "25%      0.000000    0.000000\n",
       "50%      0.000000    0.000000\n",
       "75%      1.000000    1.000000\n",
       "max      4.000000    1.905988"
      ]
     },
     "execution_count": 149,
     "metadata": {},
     "output_type": "execute_result"
    }
   ],
   "source": [
    "data[['Parch', 'Parch_sd']].describe()"
   ]
  },
  {
   "cell_type": "markdown",
   "id": "5db241ea",
   "metadata": {},
   "source": [
    "**Columna: Fare**"
   ]
  },
  {
   "cell_type": "code",
   "execution_count": 150,
   "id": "73ffe40b",
   "metadata": {},
   "outputs": [
    {
     "name": "stdout",
     "output_type": "stream",
     "text": [
      "Lower value: -71.66964557180023\n",
      "Upper value: 229.58802728608583\n"
     ]
    }
   ],
   "source": [
    "f = 2\n",
    "xl = data['Fare'].mean() - (data['Fare'].std() * f)\n",
    "xu = data['Fare'].mean() + (data['Fare'].std() * f)\n",
    "print('Lower value:', xl)\n",
    "print('Upper value:', xu)"
   ]
  },
  {
   "cell_type": "code",
   "execution_count": 151,
   "id": "f88a70b4",
   "metadata": {},
   "outputs": [
    {
     "data": {
      "text/plain": [
       "<AxesSubplot:xlabel='PassengerId', ylabel='Fare'>"
      ]
     },
     "execution_count": 151,
     "metadata": {},
     "output_type": "execute_result"
    },
    {
     "data": {
      "image/png": "[encoded data removed]",
      "text/plain": [
       "<Figure size 432x288 with 1 Axes>"
      ]
     },
     "metadata": {
      "needs_background": "light"
     },
     "output_type": "display_data"
    }
   ],
   "source": [
    "sns.scatterplot(x = data['PassengerId'], y = data['Fare'])\n",
    "sns.lineplot(x = data['PassengerId'], y = xl, color = 'green')\n",
    "sns.lineplot(x = data['PassengerId'], y = xu, color = 'orange')"
   ]
  },
  {
   "cell_type": "code",
   "execution_count": 152,
   "id": "2de6104e",
   "metadata": {},
   "outputs": [],
   "source": [
    "df_sd = data[(data['Fare']>=xl) & (data['Fare']<=xu)]"
   ]
  },
  {
   "cell_type": "code",
   "execution_count": 153,
   "id": "917a2641",
   "metadata": {},
   "outputs": [
    {
     "data": {
      "text/html": [
       "<div>\n",
       "<style scoped>\n",
       "    .dataframe tbody tr th:only-of-type {\n",
       "        vertical-align: middle;\n",
       "    }\n",
       "\n",
       "    .dataframe tbody tr th {\n",
       "        vertical-align: top;\n",
       "    }\n",
       "\n",
       "    .dataframe thead th {\n",
       "        text-align: right;\n",
       "    }\n",
       "</style>\n",
       "<table border=\"1\" class=\"dataframe\">\n",
       "  <thead>\n",
       "    <tr style=\"text-align: right;\">\n",
       "      <th></th>\n",
       "      <th>Fare</th>\n",
       "    </tr>\n",
       "  </thead>\n",
       "  <tbody>\n",
       "    <tr>\n",
       "      <th>count</th>\n",
       "      <td>173.000000</td>\n",
       "    </tr>\n",
       "    <tr>\n",
       "      <th>mean</th>\n",
       "      <td>65.624751</td>\n",
       "    </tr>\n",
       "    <tr>\n",
       "      <th>std</th>\n",
       "      <td>46.153119</td>\n",
       "    </tr>\n",
       "    <tr>\n",
       "      <th>min</th>\n",
       "      <td>0.000000</td>\n",
       "    </tr>\n",
       "    <tr>\n",
       "      <th>25%</th>\n",
       "      <td>29.700000</td>\n",
       "    </tr>\n",
       "    <tr>\n",
       "      <th>50%</th>\n",
       "      <td>56.929200</td>\n",
       "    </tr>\n",
       "    <tr>\n",
       "      <th>75%</th>\n",
       "      <td>83.158300</td>\n",
       "    </tr>\n",
       "    <tr>\n",
       "      <th>max</th>\n",
       "      <td>227.525000</td>\n",
       "    </tr>\n",
       "  </tbody>\n",
       "</table>\n",
       "</div>"
      ],
      "text/plain": [
       "             Fare\n",
       "count  173.000000\n",
       "mean    65.624751\n",
       "std     46.153119\n",
       "min      0.000000\n",
       "25%     29.700000\n",
       "50%     56.929200\n",
       "75%     83.158300\n",
       "max    227.525000"
      ]
     },
     "execution_count": 153,
     "metadata": {},
     "output_type": "execute_result"
    }
   ],
   "source": [
    "df_sd[['Fare']].describe()"
   ]
  },
  {
   "cell_type": "markdown",
   "id": "7e119f61",
   "metadata": {},
   "source": [
    "Now we need to ***cap*** the values in the limits"
   ]
  },
  {
   "cell_type": "code",
   "execution_count": 154,
   "id": "56151dd4",
   "metadata": {},
   "outputs": [],
   "source": [
    "data['Fare_sd'] = np.where(\n",
    "    data['Fare']<xl,\n",
    "    xl,\n",
    "    np.where(\n",
    "        data['Fare']>xu,\n",
    "        xu,\n",
    "        data['Fare']\n",
    "    )\n",
    ")"
   ]
  },
  {
   "cell_type": "code",
   "execution_count": 155,
   "id": "86992050",
   "metadata": {
    "scrolled": false
   },
   "outputs": [
    {
     "data": {
      "text/html": [
       "<div>\n",
       "<style scoped>\n",
       "    .dataframe tbody tr th:only-of-type {\n",
       "        vertical-align: middle;\n",
       "    }\n",
       "\n",
       "    .dataframe tbody tr th {\n",
       "        vertical-align: top;\n",
       "    }\n",
       "\n",
       "    .dataframe thead th {\n",
       "        text-align: right;\n",
       "    }\n",
       "</style>\n",
       "<table border=\"1\" class=\"dataframe\">\n",
       "  <thead>\n",
       "    <tr style=\"text-align: right;\">\n",
       "      <th></th>\n",
       "      <th>Fare</th>\n",
       "      <th>Fare_sd</th>\n",
       "    </tr>\n",
       "  </thead>\n",
       "  <tbody>\n",
       "    <tr>\n",
       "      <th>count</th>\n",
       "      <td>183.000000</td>\n",
       "      <td>183.000000</td>\n",
       "    </tr>\n",
       "    <tr>\n",
       "      <th>mean</th>\n",
       "      <td>78.959191</td>\n",
       "      <td>74.584493</td>\n",
       "    </tr>\n",
       "    <tr>\n",
       "      <th>std</th>\n",
       "      <td>75.314418</td>\n",
       "      <td>58.390871</td>\n",
       "    </tr>\n",
       "    <tr>\n",
       "      <th>min</th>\n",
       "      <td>0.000000</td>\n",
       "      <td>0.000000</td>\n",
       "    </tr>\n",
       "    <tr>\n",
       "      <th>25%</th>\n",
       "      <td>30.000000</td>\n",
       "      <td>30.000000</td>\n",
       "    </tr>\n",
       "    <tr>\n",
       "      <th>50%</th>\n",
       "      <td>61.175000</td>\n",
       "      <td>61.175000</td>\n",
       "    </tr>\n",
       "    <tr>\n",
       "      <th>75%</th>\n",
       "      <td>90.000000</td>\n",
       "      <td>90.000000</td>\n",
       "    </tr>\n",
       "    <tr>\n",
       "      <th>max</th>\n",
       "      <td>512.329200</td>\n",
       "      <td>229.588027</td>\n",
       "    </tr>\n",
       "  </tbody>\n",
       "</table>\n",
       "</div>"
      ],
      "text/plain": [
       "             Fare     Fare_sd\n",
       "count  183.000000  183.000000\n",
       "mean    78.959191   74.584493\n",
       "std     75.314418   58.390871\n",
       "min      0.000000    0.000000\n",
       "25%     30.000000   30.000000\n",
       "50%     61.175000   61.175000\n",
       "75%     90.000000   90.000000\n",
       "max    512.329200  229.588027"
      ]
     },
     "execution_count": 155,
     "metadata": {},
     "output_type": "execute_result"
    }
   ],
   "source": [
    "data[['Fare', 'Fare_sd']].describe()"
   ]
  },
  {
   "cell_type": "markdown",
   "id": "4ce86514",
   "metadata": {},
   "source": [
    "###  Inciso 5"
   ]
  },
  {
   "cell_type": "markdown",
   "id": "0107e3eb",
   "metadata": {},
   "source": [
    "**Columna Age**"
   ]
  },
  {
   "cell_type": "code",
   "execution_count": 160,
   "id": "8f664cef",
   "metadata": {},
   "outputs": [
    {
     "name": "stdout",
     "output_type": "stream",
     "text": [
      "El error absoluto promedio es: -0.13253164556962674\n"
     ]
    }
   ],
   "source": [
    "sumaError = 0\n",
    "numErrores = 0\n",
    "for ind in dataLimpia.index:\n",
    "    num = dataLimpia['Age'][ind] - dataMean['Age'][ind]\n",
    "    sumaError += num\n",
    "    if num != 0:\n",
    "        numErrores += 1\n",
    "print(\"El error absoluto promedio es: \" + str(sumaError/numErrores))"
   ]
  },
  {
   "cell_type": "code",
   "execution_count": 161,
   "id": "04ac98d8",
   "metadata": {},
   "outputs": [
    {
     "name": "stdout",
     "output_type": "stream",
     "text": [
      "El error absoluto promedio es: 0.06\n"
     ]
    }
   ],
   "source": [
    "sumaError = 0\n",
    "numErrores = 0\n",
    "for ind in dataLimpia.index:\n",
    "    num = dataLimpia['Age'][ind] - dataMedian['Age'][ind]\n",
    "    sumaError += num\n",
    "    if num != 0:\n",
    "        numErrores += 1\n",
    "print(\"El error absoluto promedio es: \" + str(sumaError/numErrores))"
   ]
  },
  {
   "cell_type": "code",
   "execution_count": 162,
   "id": "6a0997c8",
   "metadata": {},
   "outputs": [
    {
     "name": "stdout",
     "output_type": "stream",
     "text": [
      "El error absoluto promedio es: -0.018105416061428903\n"
     ]
    }
   ],
   "source": [
    "sumaError = 0\n",
    "numErrores = 0\n",
    "for ind in dataLimpia.index:\n",
    "    num = dataLimpia['Age'][ind] - dataRegression['Age_lm'][ind]\n",
    "    sumaError += num\n",
    "    if num != 0:\n",
    "        numErrores += 1\n",
    "print(\"El error absoluto promedio es: \" + str(sumaError/numErrores))"
   ]
  },
  {
   "cell_type": "markdown",
   "id": "58a51cdc",
   "metadata": {},
   "source": [
    "**Columna SibSp**"
   ]
  },
  {
   "cell_type": "code",
   "execution_count": 163,
   "id": "1baf2008",
   "metadata": {},
   "outputs": [
    {
     "name": "stdout",
     "output_type": "stream",
     "text": [
      "El error absoluto promedio es: 1.0\n"
     ]
    }
   ],
   "source": [
    "sumaError = 0\n",
    "numErrores = 0\n",
    "for ind in dataLimpia.index:\n",
    "    num = dataLimpia['SibSp'][ind] - dataMean['SibSp'][ind]\n",
    "    sumaError += num\n",
    "    if num != 0:\n",
    "        numErrores += 1\n",
    "print(\"El error absoluto promedio es: \" + str(sumaError/numErrores))"
   ]
  },
  {
   "cell_type": "code",
   "execution_count": 164,
   "id": "f051c5c0",
   "metadata": {},
   "outputs": [
    {
     "name": "stdout",
     "output_type": "stream",
     "text": [
      "El error absoluto promedio es: 1.0\n"
     ]
    }
   ],
   "source": [
    "sumaError = 0\n",
    "numErrores = 0\n",
    "for ind in dataLimpia.index:\n",
    "    num = dataLimpia['SibSp'][ind] - dataMedian['SibSp'][ind]\n",
    "    sumaError += num\n",
    "    if num != 0:\n",
    "        numErrores += 1\n",
    "print(\"El error absoluto promedio es: \" + str(sumaError/numErrores))"
   ]
  },
  {
   "cell_type": "code",
   "execution_count": 165,
   "id": "1403976e",
   "metadata": {},
   "outputs": [
    {
     "name": "stdout",
     "output_type": "stream",
     "text": [
      "El error absoluto promedio es: 0.0033697632058287785\n"
     ]
    }
   ],
   "source": [
    "sumaError = 0\n",
    "numErrores = 0\n",
    "for ind in dataLimpia.index:\n",
    "    num = dataLimpia['SibSp'][ind] - dataRegression['SibSp_lm'][ind]\n",
    "    sumaError += num\n",
    "    if num != 0:\n",
    "        numErrores += 1\n",
    "print(\"El error absoluto promedio es: \" + str(sumaError/numErrores))"
   ]
  },
  {
   "cell_type": "markdown",
   "id": "012c82ae",
   "metadata": {},
   "source": [
    "**Columna Parch**"
   ]
  },
  {
   "cell_type": "code",
   "execution_count": 166,
   "id": "7ac98724",
   "metadata": {},
   "outputs": [
    {
     "name": "stdout",
     "output_type": "stream",
     "text": [
      "El error absoluto promedio es: 1.3333333333333333\n"
     ]
    }
   ],
   "source": [
    "sumaError = 0\n",
    "numErrores = 0\n",
    "for ind in dataLimpia.index:\n",
    "    num = dataLimpia['Parch'][ind] - dataMean['Parch'][ind]\n",
    "    sumaError += num\n",
    "    if num != 0:\n",
    "        numErrores += 1\n",
    "print(\"El error absoluto promedio es: \" + str(sumaError/numErrores))"
   ]
  },
  {
   "cell_type": "code",
   "execution_count": 167,
   "id": "817bc79d",
   "metadata": {},
   "outputs": [
    {
     "name": "stdout",
     "output_type": "stream",
     "text": [
      "El error absoluto promedio es: 1.3333333333333333\n"
     ]
    }
   ],
   "source": [
    "sumaError = 0\n",
    "numErrores = 0\n",
    "for ind in dataLimpia.index:\n",
    "    num = dataLimpia['Parch'][ind] - dataMedian['Parch'][ind]\n",
    "    sumaError += num\n",
    "    if num != 0:\n",
    "        numErrores += 1\n",
    "print(\"El error absoluto promedio es: \" + str(sumaError/numErrores))"
   ]
  },
  {
   "cell_type": "code",
   "execution_count": 171,
   "id": "eed04e5b",
   "metadata": {},
   "outputs": [
    {
     "name": "stdout",
     "output_type": "stream",
     "text": [
      "El error absoluto promedio es: 0.013421531972006462\n"
     ]
    }
   ],
   "source": [
    "sumaError = 0\n",
    "numErrores = 0\n",
    "for ind in dataLimpia.index:\n",
    "    num = dataLimpia['Parch'][ind] - dataRegression['Parch_lm'][ind]\n",
    "    sumaError += num\n",
    "    if num != 0:\n",
    "        numErrores += 1\n",
    "print(\"El error absoluto promedio es: \" + str(sumaError/numErrores))"
   ]
  },
  {
   "cell_type": "markdown",
   "id": "0681ee76",
   "metadata": {},
   "source": [
    "**Columna Fare**"
   ]
  },
  {
   "cell_type": "code",
   "execution_count": 172,
   "id": "52c9cbd6",
   "metadata": {},
   "outputs": [
    {
     "name": "stdout",
     "output_type": "stream",
     "text": [
      "El error absoluto promedio es: -6.330015857142826\n"
     ]
    }
   ],
   "source": [
    "sumaError = 0\n",
    "numErrores = 0\n",
    "for ind in dataLimpia.index:\n",
    "    num = dataLimpia['Fare'][ind] - dataMean['Fare'][ind]\n",
    "    sumaError += num\n",
    "    if num != 0:\n",
    "        numErrores += 1\n",
    "print(\"El error absoluto promedio es: \" + str(sumaError/numErrores))"
   ]
  },
  {
   "cell_type": "code",
   "execution_count": 173,
   "id": "87fdd117",
   "metadata": {},
   "outputs": [
    {
     "name": "stdout",
     "output_type": "stream",
     "text": [
      "El error absoluto promedio es: 15.699974999999998\n"
     ]
    }
   ],
   "source": [
    "sumaError = 0\n",
    "numErrores = 0\n",
    "for ind in dataLimpia.index:\n",
    "    num = dataLimpia['Fare'][ind] - dataMedian['Fare'][ind]\n",
    "    sumaError += num\n",
    "    if num != 0:\n",
    "        numErrores += 1\n",
    "print(\"El error absoluto promedio es: \" + str(sumaError/numErrores))"
   ]
  },
  {
   "cell_type": "code",
   "execution_count": 174,
   "id": "528b2574",
   "metadata": {},
   "outputs": [
    {
     "name": "stdout",
     "output_type": "stream",
     "text": [
      "El error absoluto promedio es: -6.330015857142826\n"
     ]
    }
   ],
   "source": [
    "sumaError = 0\n",
    "numErrores = 0\n",
    "for ind in dataLimpia.index:\n",
    "    num = dataLimpia['Fare'][ind] - dataRegression['Fare'][ind]\n",
    "    sumaError += num\n",
    "    if num != 0:\n",
    "        numErrores += 1\n",
    "print(\"El error absoluto promedio es: \" + str(sumaError/numErrores))"
   ]
  },
  {
   "cell_type": "markdown",
   "id": "e7833200",
   "metadata": {},
   "source": [
    "**Columna Age:** En esta columna el método que tuvo un error absoluto promedio fue la regresión lineal"
   ]
  },
  {
   "cell_type": "markdown",
   "id": "38dad422",
   "metadata": {},
   "source": [
    "**Columna SibSp:** En esta columna el método que tuvo un error absoluto promedio fue la regresión lineal"
   ]
  },
  {
   "cell_type": "markdown",
   "id": "8f6824b2",
   "metadata": {},
   "source": [
    "**Columna Parch:** En esta columna el método que tuvo un error absoluto promedio fue la regresión lineal"
   ]
  },
  {
   "cell_type": "markdown",
   "id": "60197ada",
   "metadata": {},
   "source": [
    "**Columna Fare:** En esta columna el método que tuvo un error absoluto promedio fue el input por media"
   ]
  },
  {
   "cell_type": "markdown",
   "id": "2c16991b",
   "metadata": {},
   "source": [
    "### Inciso 6"
   ]
  },
  {
   "cell_type": "markdown",
   "id": "defea8ee",
   "metadata": {},
   "source": [
    "Depende mucho del tipo de data y que sea lo que la acompañe de lo que va a depender el éxito en las imputaciones de data en los valores faltantes. Por ejemplo, en las regresiones, se debe de hallar una columna adecuada y que haga sentido con la que se quiere predecir la data para poder hacer una buena regresión. En este caso, las regresiones salieron bastante bien, pero también pudieron haber resultado no tan bien"
   ]
  },
  {
   "cell_type": "markdown",
   "id": "07b0ca2c",
   "metadata": {},
   "source": [
    "## Parte 2"
   ]
  },
  {
   "cell_type": "markdown",
   "id": "f10ba044",
   "metadata": {},
   "source": [
    "### Inciso 1"
   ]
  },
  {
   "cell_type": "markdown",
   "id": "9378b3c0",
   "metadata": {},
   "source": [
    "**Standarization**"
   ]
  },
  {
   "cell_type": "code",
   "execution_count": 188,
   "id": "a25676c3",
   "metadata": {},
   "outputs": [],
   "source": [
    "scaler = StandardScaler()\n",
    "df_z1 = data.copy()\n",
    "for col in df_z1.select_dtypes(include=['float', 'int']).columns:\n",
    "    df_z1[col+'_z'] = scaler.fit_transform(df_z1[[col]])"
   ]
  },
  {
   "cell_type": "code",
   "execution_count": 189,
   "id": "d4a7e90c",
   "metadata": {
    "scrolled": false
   },
   "outputs": [
    {
     "data": {
      "text/html": [
       "<div>\n",
       "<style scoped>\n",
       "    .dataframe tbody tr th:only-of-type {\n",
       "        vertical-align: middle;\n",
       "    }\n",
       "\n",
       "    .dataframe tbody tr th {\n",
       "        vertical-align: top;\n",
       "    }\n",
       "\n",
       "    .dataframe thead th {\n",
       "        text-align: right;\n",
       "    }\n",
       "</style>\n",
       "<table border=\"1\" class=\"dataframe\">\n",
       "  <thead>\n",
       "    <tr style=\"text-align: right;\">\n",
       "      <th></th>\n",
       "      <th>PassengerId</th>\n",
       "      <th>Survived</th>\n",
       "      <th>Pclass</th>\n",
       "      <th>SibSp</th>\n",
       "      <th>Parch</th>\n",
       "      <th>Fare</th>\n",
       "      <th>SibSp_sd</th>\n",
       "      <th>Parch_sd</th>\n",
       "      <th>Fare_sd</th>\n",
       "      <th>PassengerId_z</th>\n",
       "      <th>Survived_z</th>\n",
       "      <th>Pclass_z</th>\n",
       "      <th>SibSp_z</th>\n",
       "      <th>Parch_z</th>\n",
       "      <th>Fare_z</th>\n",
       "      <th>SibSp_sd_z</th>\n",
       "      <th>Parch_sd_z</th>\n",
       "      <th>Fare_sd_z</th>\n",
       "    </tr>\n",
       "  </thead>\n",
       "  <tbody>\n",
       "    <tr>\n",
       "      <th>count</th>\n",
       "      <td>183.000000</td>\n",
       "      <td>183.000000</td>\n",
       "      <td>183.000000</td>\n",
       "      <td>183.000000</td>\n",
       "      <td>183.000000</td>\n",
       "      <td>183.000000</td>\n",
       "      <td>183.000000</td>\n",
       "      <td>183.000000</td>\n",
       "      <td>183.000000</td>\n",
       "      <td>1.830000e+02</td>\n",
       "      <td>1.830000e+02</td>\n",
       "      <td>1.830000e+02</td>\n",
       "      <td>1.830000e+02</td>\n",
       "      <td>1.830000e+02</td>\n",
       "      <td>1.830000e+02</td>\n",
       "      <td>1.830000e+02</td>\n",
       "      <td>1.830000e+02</td>\n",
       "      <td>1.830000e+02</td>\n",
       "    </tr>\n",
       "    <tr>\n",
       "      <th>mean</th>\n",
       "      <td>455.366120</td>\n",
       "      <td>0.672131</td>\n",
       "      <td>1.191257</td>\n",
       "      <td>0.453552</td>\n",
       "      <td>0.431694</td>\n",
       "      <td>78.959191</td>\n",
       "      <td>0.424395</td>\n",
       "      <td>0.409463</td>\n",
       "      <td>74.584493</td>\n",
       "      <td>-2.499519e-16</td>\n",
       "      <td>2.062709e-17</td>\n",
       "      <td>4.307423e-17</td>\n",
       "      <td>3.033396e-17</td>\n",
       "      <td>1.092023e-17</td>\n",
       "      <td>1.480297e-16</td>\n",
       "      <td>1.710835e-16</td>\n",
       "      <td>-6.794808e-17</td>\n",
       "      <td>5.824121e-17</td>\n",
       "    </tr>\n",
       "    <tr>\n",
       "      <th>std</th>\n",
       "      <td>247.052476</td>\n",
       "      <td>0.470725</td>\n",
       "      <td>0.515187</td>\n",
       "      <td>0.643459</td>\n",
       "      <td>0.737147</td>\n",
       "      <td>75.314418</td>\n",
       "      <td>0.556198</td>\n",
       "      <td>0.672210</td>\n",
       "      <td>58.390871</td>\n",
       "      <td>1.002743e+00</td>\n",
       "      <td>1.002743e+00</td>\n",
       "      <td>1.002743e+00</td>\n",
       "      <td>1.002743e+00</td>\n",
       "      <td>1.002743e+00</td>\n",
       "      <td>1.002743e+00</td>\n",
       "      <td>1.002743e+00</td>\n",
       "      <td>1.002743e+00</td>\n",
       "      <td>1.002743e+00</td>\n",
       "    </tr>\n",
       "    <tr>\n",
       "      <th>min</th>\n",
       "      <td>2.000000</td>\n",
       "      <td>0.000000</td>\n",
       "      <td>1.000000</td>\n",
       "      <td>0.000000</td>\n",
       "      <td>0.000000</td>\n",
       "      <td>0.000000</td>\n",
       "      <td>0.000000</td>\n",
       "      <td>0.000000</td>\n",
       "      <td>0.000000</td>\n",
       "      <td>-1.840135e+00</td>\n",
       "      <td>-1.431782e+00</td>\n",
       "      <td>-3.722562e-01</td>\n",
       "      <td>-7.067991e-01</td>\n",
       "      <td>-5.872348e-01</td>\n",
       "      <td>-1.051270e+00</td>\n",
       "      <td>-7.651214e-01</td>\n",
       "      <td>-6.108010e-01</td>\n",
       "      <td>-1.280836e+00</td>\n",
       "    </tr>\n",
       "    <tr>\n",
       "      <th>25%</th>\n",
       "      <td>263.500000</td>\n",
       "      <td>0.000000</td>\n",
       "      <td>1.000000</td>\n",
       "      <td>0.000000</td>\n",
       "      <td>0.000000</td>\n",
       "      <td>30.000000</td>\n",
       "      <td>0.000000</td>\n",
       "      <td>0.000000</td>\n",
       "      <td>30.000000</td>\n",
       "      <td>-7.787516e-01</td>\n",
       "      <td>-1.431782e+00</td>\n",
       "      <td>-3.722562e-01</td>\n",
       "      <td>-7.067991e-01</td>\n",
       "      <td>-5.872348e-01</td>\n",
       "      <td>-6.518474e-01</td>\n",
       "      <td>-7.651214e-01</td>\n",
       "      <td>-6.108010e-01</td>\n",
       "      <td>-7.656473e-01</td>\n",
       "    </tr>\n",
       "    <tr>\n",
       "      <th>50%</th>\n",
       "      <td>457.000000</td>\n",
       "      <td>1.000000</td>\n",
       "      <td>1.000000</td>\n",
       "      <td>0.000000</td>\n",
       "      <td>0.000000</td>\n",
       "      <td>61.175000</td>\n",
       "      <td>0.000000</td>\n",
       "      <td>0.000000</td>\n",
       "      <td>61.175000</td>\n",
       "      <td>6.631637e-03</td>\n",
       "      <td>6.984303e-01</td>\n",
       "      <td>-3.722562e-01</td>\n",
       "      <td>-7.067991e-01</td>\n",
       "      <td>-5.872348e-01</td>\n",
       "      <td>-2.367804e-01</td>\n",
       "      <td>-7.651214e-01</td>\n",
       "      <td>-6.108010e-01</td>\n",
       "      <td>-2.302805e-01</td>\n",
       "    </tr>\n",
       "    <tr>\n",
       "      <th>75%</th>\n",
       "      <td>676.000000</td>\n",
       "      <td>1.000000</td>\n",
       "      <td>1.000000</td>\n",
       "      <td>1.000000</td>\n",
       "      <td>1.000000</td>\n",
       "      <td>90.000000</td>\n",
       "      <td>1.000000</td>\n",
       "      <td>1.000000</td>\n",
       "      <td>90.000000</td>\n",
       "      <td>8.955150e-01</td>\n",
       "      <td>6.984303e-01</td>\n",
       "      <td>-3.722562e-01</td>\n",
       "      <td>8.515651e-01</td>\n",
       "      <td>7.730686e-01</td>\n",
       "      <td>1.469984e-01</td>\n",
       "      <td>1.037732e+00</td>\n",
       "      <td>8.809113e-01</td>\n",
       "      <td>2.647297e-01</td>\n",
       "    </tr>\n",
       "    <tr>\n",
       "      <th>max</th>\n",
       "      <td>890.000000</td>\n",
       "      <td>1.000000</td>\n",
       "      <td>3.000000</td>\n",
       "      <td>3.000000</td>\n",
       "      <td>4.000000</td>\n",
       "      <td>512.329200</td>\n",
       "      <td>1.740470</td>\n",
       "      <td>1.905988</td>\n",
       "      <td>229.588027</td>\n",
       "      <td>1.764104e+00</td>\n",
       "      <td>6.984303e-01</td>\n",
       "      <td>3.520480e+00</td>\n",
       "      <td>3.968293e+00</td>\n",
       "      <td>4.853979e+00</td>\n",
       "      <td>5.769930e+00</td>\n",
       "      <td>2.372691e+00</td>\n",
       "      <td>2.232384e+00</td>\n",
       "      <td>2.661868e+00</td>\n",
       "    </tr>\n",
       "  </tbody>\n",
       "</table>\n",
       "</div>"
      ],
      "text/plain": [
       "       PassengerId    Survived      Pclass       SibSp       Parch  \\\n",
       "count   183.000000  183.000000  183.000000  183.000000  183.000000   \n",
       "mean    455.366120    0.672131    1.191257    0.453552    0.431694   \n",
       "std     247.052476    0.470725    0.515187    0.643459    0.737147   \n",
       "min       2.000000    0.000000    1.000000    0.000000    0.000000   \n",
       "25%     263.500000    0.000000    1.000000    0.000000    0.000000   \n",
       "50%     457.000000    1.000000    1.000000    0.000000    0.000000   \n",
       "75%     676.000000    1.000000    1.000000    1.000000    1.000000   \n",
       "max     890.000000    1.000000    3.000000    3.000000    4.000000   \n",
       "\n",
       "             Fare    SibSp_sd    Parch_sd     Fare_sd  PassengerId_z  \\\n",
       "count  183.000000  183.000000  183.000000  183.000000   1.830000e+02   \n",
       "mean    78.959191    0.424395    0.409463   74.584493  -2.499519e-16   \n",
       "std     75.314418    0.556198    0.672210   58.390871   1.002743e+00   \n",
       "min      0.000000    0.000000    0.000000    0.000000  -1.840135e+00   \n",
       "25%     30.000000    0.000000    0.000000   30.000000  -7.787516e-01   \n",
       "50%     61.175000    0.000000    0.000000   61.175000   6.631637e-03   \n",
       "75%     90.000000    1.000000    1.000000   90.000000   8.955150e-01   \n",
       "max    512.329200    1.740470    1.905988  229.588027   1.764104e+00   \n",
       "\n",
       "         Survived_z      Pclass_z       SibSp_z       Parch_z        Fare_z  \\\n",
       "count  1.830000e+02  1.830000e+02  1.830000e+02  1.830000e+02  1.830000e+02   \n",
       "mean   2.062709e-17  4.307423e-17  3.033396e-17  1.092023e-17  1.480297e-16   \n",
       "std    1.002743e+00  1.002743e+00  1.002743e+00  1.002743e+00  1.002743e+00   \n",
       "min   -1.431782e+00 -3.722562e-01 -7.067991e-01 -5.872348e-01 -1.051270e+00   \n",
       "25%   -1.431782e+00 -3.722562e-01 -7.067991e-01 -5.872348e-01 -6.518474e-01   \n",
       "50%    6.984303e-01 -3.722562e-01 -7.067991e-01 -5.872348e-01 -2.367804e-01   \n",
       "75%    6.984303e-01 -3.722562e-01  8.515651e-01  7.730686e-01  1.469984e-01   \n",
       "max    6.984303e-01  3.520480e+00  3.968293e+00  4.853979e+00  5.769930e+00   \n",
       "\n",
       "         SibSp_sd_z    Parch_sd_z     Fare_sd_z  \n",
       "count  1.830000e+02  1.830000e+02  1.830000e+02  \n",
       "mean   1.710835e-16 -6.794808e-17  5.824121e-17  \n",
       "std    1.002743e+00  1.002743e+00  1.002743e+00  \n",
       "min   -7.651214e-01 -6.108010e-01 -1.280836e+00  \n",
       "25%   -7.651214e-01 -6.108010e-01 -7.656473e-01  \n",
       "50%   -7.651214e-01 -6.108010e-01 -2.302805e-01  \n",
       "75%    1.037732e+00  8.809113e-01  2.647297e-01  \n",
       "max    2.372691e+00  2.232384e+00  2.661868e+00  "
      ]
     },
     "execution_count": 189,
     "metadata": {},
     "output_type": "execute_result"
    }
   ],
   "source": [
    "df_z1.describe()"
   ]
  },
  {
   "cell_type": "code",
   "execution_count": 190,
   "id": "88d6cf52",
   "metadata": {},
   "outputs": [],
   "source": [
    "scaler = StandardScaler()\n",
    "df_z2 = dataLimpia.copy()\n",
    "for col in df_z2.select_dtypes(include=['float', 'int']).columns:\n",
    "    df_z2[col+'_z'] = scaler.fit_transform(df_z2[[col]])"
   ]
  },
  {
   "cell_type": "code",
   "execution_count": 191,
   "id": "95531911",
   "metadata": {
    "scrolled": true
   },
   "outputs": [
    {
     "data": {
      "text/html": [
       "<div>\n",
       "<style scoped>\n",
       "    .dataframe tbody tr th:only-of-type {\n",
       "        vertical-align: middle;\n",
       "    }\n",
       "\n",
       "    .dataframe tbody tr th {\n",
       "        vertical-align: top;\n",
       "    }\n",
       "\n",
       "    .dataframe thead th {\n",
       "        text-align: right;\n",
       "    }\n",
       "</style>\n",
       "<table border=\"1\" class=\"dataframe\">\n",
       "  <thead>\n",
       "    <tr style=\"text-align: right;\">\n",
       "      <th></th>\n",
       "      <th>PassengerId</th>\n",
       "      <th>Survived</th>\n",
       "      <th>Pclass</th>\n",
       "      <th>Age</th>\n",
       "      <th>SibSp</th>\n",
       "      <th>Parch</th>\n",
       "      <th>Fare</th>\n",
       "      <th>PassengerId_z</th>\n",
       "      <th>Survived_z</th>\n",
       "      <th>Pclass_z</th>\n",
       "      <th>Age_z</th>\n",
       "      <th>SibSp_z</th>\n",
       "      <th>Parch_z</th>\n",
       "      <th>Fare_z</th>\n",
       "    </tr>\n",
       "  </thead>\n",
       "  <tbody>\n",
       "    <tr>\n",
       "      <th>count</th>\n",
       "      <td>183.000000</td>\n",
       "      <td>183.000000</td>\n",
       "      <td>183.000000</td>\n",
       "      <td>183.000000</td>\n",
       "      <td>183.000000</td>\n",
       "      <td>183.000000</td>\n",
       "      <td>183.000000</td>\n",
       "      <td>1.830000e+02</td>\n",
       "      <td>1.830000e+02</td>\n",
       "      <td>1.830000e+02</td>\n",
       "      <td>1.830000e+02</td>\n",
       "      <td>1.830000e+02</td>\n",
       "      <td>1.830000e+02</td>\n",
       "      <td>1.830000e+02</td>\n",
       "    </tr>\n",
       "    <tr>\n",
       "      <th>mean</th>\n",
       "      <td>455.366120</td>\n",
       "      <td>0.672131</td>\n",
       "      <td>1.191257</td>\n",
       "      <td>35.674426</td>\n",
       "      <td>0.464481</td>\n",
       "      <td>0.475410</td>\n",
       "      <td>78.682469</td>\n",
       "      <td>-2.499519e-16</td>\n",
       "      <td>2.062709e-17</td>\n",
       "      <td>4.307423e-17</td>\n",
       "      <td>-1.559166e-16</td>\n",
       "      <td>-7.522823e-17</td>\n",
       "      <td>-1.092023e-17</td>\n",
       "      <td>9.585532e-17</td>\n",
       "    </tr>\n",
       "    <tr>\n",
       "      <th>std</th>\n",
       "      <td>247.052476</td>\n",
       "      <td>0.470725</td>\n",
       "      <td>0.515187</td>\n",
       "      <td>15.643866</td>\n",
       "      <td>0.644159</td>\n",
       "      <td>0.754617</td>\n",
       "      <td>76.347843</td>\n",
       "      <td>1.002743e+00</td>\n",
       "      <td>1.002743e+00</td>\n",
       "      <td>1.002743e+00</td>\n",
       "      <td>1.002743e+00</td>\n",
       "      <td>1.002743e+00</td>\n",
       "      <td>1.002743e+00</td>\n",
       "      <td>1.002743e+00</td>\n",
       "    </tr>\n",
       "    <tr>\n",
       "      <th>min</th>\n",
       "      <td>2.000000</td>\n",
       "      <td>0.000000</td>\n",
       "      <td>1.000000</td>\n",
       "      <td>0.920000</td>\n",
       "      <td>0.000000</td>\n",
       "      <td>0.000000</td>\n",
       "      <td>0.000000</td>\n",
       "      <td>-1.840135e+00</td>\n",
       "      <td>-1.431782e+00</td>\n",
       "      <td>-3.722562e-01</td>\n",
       "      <td>-2.227696e+00</td>\n",
       "      <td>-7.230443e-01</td>\n",
       "      <td>-6.317298e-01</td>\n",
       "      <td>-1.033406e+00</td>\n",
       "    </tr>\n",
       "    <tr>\n",
       "      <th>25%</th>\n",
       "      <td>263.500000</td>\n",
       "      <td>0.000000</td>\n",
       "      <td>1.000000</td>\n",
       "      <td>24.000000</td>\n",
       "      <td>0.000000</td>\n",
       "      <td>0.000000</td>\n",
       "      <td>29.700000</td>\n",
       "      <td>-7.787516e-01</td>\n",
       "      <td>-1.431782e+00</td>\n",
       "      <td>-3.722562e-01</td>\n",
       "      <td>-7.483096e-01</td>\n",
       "      <td>-7.230443e-01</td>\n",
       "      <td>-6.317298e-01</td>\n",
       "      <td>-6.433299e-01</td>\n",
       "    </tr>\n",
       "    <tr>\n",
       "      <th>50%</th>\n",
       "      <td>457.000000</td>\n",
       "      <td>1.000000</td>\n",
       "      <td>1.000000</td>\n",
       "      <td>36.000000</td>\n",
       "      <td>0.000000</td>\n",
       "      <td>0.000000</td>\n",
       "      <td>57.000000</td>\n",
       "      <td>6.631637e-03</td>\n",
       "      <td>6.984303e-01</td>\n",
       "      <td>-3.722562e-01</td>\n",
       "      <td>2.086869e-02</td>\n",
       "      <td>-7.230443e-01</td>\n",
       "      <td>-6.317298e-01</td>\n",
       "      <td>-2.847750e-01</td>\n",
       "    </tr>\n",
       "    <tr>\n",
       "      <th>75%</th>\n",
       "      <td>676.000000</td>\n",
       "      <td>1.000000</td>\n",
       "      <td>1.000000</td>\n",
       "      <td>47.500000</td>\n",
       "      <td>1.000000</td>\n",
       "      <td>1.000000</td>\n",
       "      <td>90.000000</td>\n",
       "      <td>8.955150e-01</td>\n",
       "      <td>6.984303e-01</td>\n",
       "      <td>-3.722562e-01</td>\n",
       "      <td>7.579979e-01</td>\n",
       "      <td>8.336275e-01</td>\n",
       "      <td>6.970812e-01</td>\n",
       "      <td>1.486431e-01</td>\n",
       "    </tr>\n",
       "    <tr>\n",
       "      <th>max</th>\n",
       "      <td>890.000000</td>\n",
       "      <td>1.000000</td>\n",
       "      <td>3.000000</td>\n",
       "      <td>80.000000</td>\n",
       "      <td>3.000000</td>\n",
       "      <td>4.000000</td>\n",
       "      <td>512.329200</td>\n",
       "      <td>1.764104e+00</td>\n",
       "      <td>6.984303e-01</td>\n",
       "      <td>3.520480e+00</td>\n",
       "      <td>2.841189e+00</td>\n",
       "      <td>3.946971e+00</td>\n",
       "      <td>4.683514e+00</td>\n",
       "      <td>5.695465e+00</td>\n",
       "    </tr>\n",
       "  </tbody>\n",
       "</table>\n",
       "</div>"
      ],
      "text/plain": [
       "       PassengerId    Survived      Pclass         Age       SibSp  \\\n",
       "count   183.000000  183.000000  183.000000  183.000000  183.000000   \n",
       "mean    455.366120    0.672131    1.191257   35.674426    0.464481   \n",
       "std     247.052476    0.470725    0.515187   15.643866    0.644159   \n",
       "min       2.000000    0.000000    1.000000    0.920000    0.000000   \n",
       "25%     263.500000    0.000000    1.000000   24.000000    0.000000   \n",
       "50%     457.000000    1.000000    1.000000   36.000000    0.000000   \n",
       "75%     676.000000    1.000000    1.000000   47.500000    1.000000   \n",
       "max     890.000000    1.000000    3.000000   80.000000    3.000000   \n",
       "\n",
       "            Parch        Fare  PassengerId_z    Survived_z      Pclass_z  \\\n",
       "count  183.000000  183.000000   1.830000e+02  1.830000e+02  1.830000e+02   \n",
       "mean     0.475410   78.682469  -2.499519e-16  2.062709e-17  4.307423e-17   \n",
       "std      0.754617   76.347843   1.002743e+00  1.002743e+00  1.002743e+00   \n",
       "min      0.000000    0.000000  -1.840135e+00 -1.431782e+00 -3.722562e-01   \n",
       "25%      0.000000   29.700000  -7.787516e-01 -1.431782e+00 -3.722562e-01   \n",
       "50%      0.000000   57.000000   6.631637e-03  6.984303e-01 -3.722562e-01   \n",
       "75%      1.000000   90.000000   8.955150e-01  6.984303e-01 -3.722562e-01   \n",
       "max      4.000000  512.329200   1.764104e+00  6.984303e-01  3.520480e+00   \n",
       "\n",
       "              Age_z       SibSp_z       Parch_z        Fare_z  \n",
       "count  1.830000e+02  1.830000e+02  1.830000e+02  1.830000e+02  \n",
       "mean  -1.559166e-16 -7.522823e-17 -1.092023e-17  9.585532e-17  \n",
       "std    1.002743e+00  1.002743e+00  1.002743e+00  1.002743e+00  \n",
       "min   -2.227696e+00 -7.230443e-01 -6.317298e-01 -1.033406e+00  \n",
       "25%   -7.483096e-01 -7.230443e-01 -6.317298e-01 -6.433299e-01  \n",
       "50%    2.086869e-02 -7.230443e-01 -6.317298e-01 -2.847750e-01  \n",
       "75%    7.579979e-01  8.336275e-01  6.970812e-01  1.486431e-01  \n",
       "max    2.841189e+00  3.946971e+00  4.683514e+00  5.695465e+00  "
      ]
     },
     "execution_count": 191,
     "metadata": {},
     "output_type": "execute_result"
    }
   ],
   "source": [
    "df_z2.describe()"
   ]
  },
  {
   "cell_type": "markdown",
   "id": "e0d059f6",
   "metadata": {},
   "source": [
    "**Min Max Scaler**"
   ]
  },
  {
   "cell_type": "code",
   "execution_count": 194,
   "id": "d443b713",
   "metadata": {},
   "outputs": [],
   "source": [
    "scaler = MinMaxScaler()\n",
    "df_norm1 = data.copy()\n",
    "for col in df_norm1.select_dtypes(include=['float', 'int']).columns:\n",
    "    df_norm1[col+'_norm'] = scaler.fit_transform(df_norm1[[col]])"
   ]
  },
  {
   "cell_type": "code",
   "execution_count": 196,
   "id": "89c82dcb",
   "metadata": {
    "scrolled": true
   },
   "outputs": [
    {
     "data": {
      "text/html": [
       "<div>\n",
       "<style scoped>\n",
       "    .dataframe tbody tr th:only-of-type {\n",
       "        vertical-align: middle;\n",
       "    }\n",
       "\n",
       "    .dataframe tbody tr th {\n",
       "        vertical-align: top;\n",
       "    }\n",
       "\n",
       "    .dataframe thead th {\n",
       "        text-align: right;\n",
       "    }\n",
       "</style>\n",
       "<table border=\"1\" class=\"dataframe\">\n",
       "  <thead>\n",
       "    <tr style=\"text-align: right;\">\n",
       "      <th></th>\n",
       "      <th>PassengerId</th>\n",
       "      <th>Survived</th>\n",
       "      <th>Pclass</th>\n",
       "      <th>SibSp</th>\n",
       "      <th>Parch</th>\n",
       "      <th>Fare</th>\n",
       "      <th>SibSp_sd</th>\n",
       "      <th>Parch_sd</th>\n",
       "      <th>Fare_sd</th>\n",
       "      <th>PassengerId_norm</th>\n",
       "      <th>Survived_norm</th>\n",
       "      <th>Pclass_norm</th>\n",
       "      <th>SibSp_norm</th>\n",
       "      <th>Parch_norm</th>\n",
       "      <th>Fare_norm</th>\n",
       "      <th>SibSp_sd_norm</th>\n",
       "      <th>Parch_sd_norm</th>\n",
       "      <th>Fare_sd_norm</th>\n",
       "    </tr>\n",
       "  </thead>\n",
       "  <tbody>\n",
       "    <tr>\n",
       "      <th>count</th>\n",
       "      <td>183.000000</td>\n",
       "      <td>183.000000</td>\n",
       "      <td>183.000000</td>\n",
       "      <td>183.000000</td>\n",
       "      <td>183.000000</td>\n",
       "      <td>183.000000</td>\n",
       "      <td>183.000000</td>\n",
       "      <td>183.000000</td>\n",
       "      <td>183.000000</td>\n",
       "      <td>183.000000</td>\n",
       "      <td>183.000000</td>\n",
       "      <td>183.000000</td>\n",
       "      <td>183.000000</td>\n",
       "      <td>183.000000</td>\n",
       "      <td>183.000000</td>\n",
       "      <td>183.000000</td>\n",
       "      <td>183.000000</td>\n",
       "      <td>183.000000</td>\n",
       "    </tr>\n",
       "    <tr>\n",
       "      <th>mean</th>\n",
       "      <td>455.366120</td>\n",
       "      <td>0.672131</td>\n",
       "      <td>1.191257</td>\n",
       "      <td>0.453552</td>\n",
       "      <td>0.431694</td>\n",
       "      <td>78.959191</td>\n",
       "      <td>0.424395</td>\n",
       "      <td>0.409463</td>\n",
       "      <td>74.584493</td>\n",
       "      <td>0.510547</td>\n",
       "      <td>0.672131</td>\n",
       "      <td>0.095628</td>\n",
       "      <td>0.151184</td>\n",
       "      <td>0.107923</td>\n",
       "      <td>0.154118</td>\n",
       "      <td>0.243839</td>\n",
       "      <td>0.214830</td>\n",
       "      <td>0.324862</td>\n",
       "    </tr>\n",
       "    <tr>\n",
       "      <th>std</th>\n",
       "      <td>247.052476</td>\n",
       "      <td>0.470725</td>\n",
       "      <td>0.515187</td>\n",
       "      <td>0.643459</td>\n",
       "      <td>0.737147</td>\n",
       "      <td>75.314418</td>\n",
       "      <td>0.556198</td>\n",
       "      <td>0.672210</td>\n",
       "      <td>58.390871</td>\n",
       "      <td>0.278212</td>\n",
       "      <td>0.470725</td>\n",
       "      <td>0.257593</td>\n",
       "      <td>0.214486</td>\n",
       "      <td>0.184287</td>\n",
       "      <td>0.147004</td>\n",
       "      <td>0.319568</td>\n",
       "      <td>0.352683</td>\n",
       "      <td>0.254329</td>\n",
       "    </tr>\n",
       "    <tr>\n",
       "      <th>min</th>\n",
       "      <td>2.000000</td>\n",
       "      <td>0.000000</td>\n",
       "      <td>1.000000</td>\n",
       "      <td>0.000000</td>\n",
       "      <td>0.000000</td>\n",
       "      <td>0.000000</td>\n",
       "      <td>0.000000</td>\n",
       "      <td>0.000000</td>\n",
       "      <td>0.000000</td>\n",
       "      <td>0.000000</td>\n",
       "      <td>0.000000</td>\n",
       "      <td>0.000000</td>\n",
       "      <td>0.000000</td>\n",
       "      <td>0.000000</td>\n",
       "      <td>0.000000</td>\n",
       "      <td>0.000000</td>\n",
       "      <td>0.000000</td>\n",
       "      <td>0.000000</td>\n",
       "    </tr>\n",
       "    <tr>\n",
       "      <th>25%</th>\n",
       "      <td>263.500000</td>\n",
       "      <td>0.000000</td>\n",
       "      <td>1.000000</td>\n",
       "      <td>0.000000</td>\n",
       "      <td>0.000000</td>\n",
       "      <td>30.000000</td>\n",
       "      <td>0.000000</td>\n",
       "      <td>0.000000</td>\n",
       "      <td>30.000000</td>\n",
       "      <td>0.294482</td>\n",
       "      <td>0.000000</td>\n",
       "      <td>0.000000</td>\n",
       "      <td>0.000000</td>\n",
       "      <td>0.000000</td>\n",
       "      <td>0.058556</td>\n",
       "      <td>0.000000</td>\n",
       "      <td>0.000000</td>\n",
       "      <td>0.130669</td>\n",
       "    </tr>\n",
       "    <tr>\n",
       "      <th>50%</th>\n",
       "      <td>457.000000</td>\n",
       "      <td>1.000000</td>\n",
       "      <td>1.000000</td>\n",
       "      <td>0.000000</td>\n",
       "      <td>0.000000</td>\n",
       "      <td>61.175000</td>\n",
       "      <td>0.000000</td>\n",
       "      <td>0.000000</td>\n",
       "      <td>61.175000</td>\n",
       "      <td>0.512387</td>\n",
       "      <td>1.000000</td>\n",
       "      <td>0.000000</td>\n",
       "      <td>0.000000</td>\n",
       "      <td>0.000000</td>\n",
       "      <td>0.119406</td>\n",
       "      <td>0.000000</td>\n",
       "      <td>0.000000</td>\n",
       "      <td>0.266456</td>\n",
       "    </tr>\n",
       "    <tr>\n",
       "      <th>75%</th>\n",
       "      <td>676.000000</td>\n",
       "      <td>1.000000</td>\n",
       "      <td>1.000000</td>\n",
       "      <td>1.000000</td>\n",
       "      <td>1.000000</td>\n",
       "      <td>90.000000</td>\n",
       "      <td>1.000000</td>\n",
       "      <td>1.000000</td>\n",
       "      <td>90.000000</td>\n",
       "      <td>0.759009</td>\n",
       "      <td>1.000000</td>\n",
       "      <td>0.000000</td>\n",
       "      <td>0.333333</td>\n",
       "      <td>0.250000</td>\n",
       "      <td>0.175668</td>\n",
       "      <td>0.574557</td>\n",
       "      <td>0.524662</td>\n",
       "      <td>0.392007</td>\n",
       "    </tr>\n",
       "    <tr>\n",
       "      <th>max</th>\n",
       "      <td>890.000000</td>\n",
       "      <td>1.000000</td>\n",
       "      <td>3.000000</td>\n",
       "      <td>3.000000</td>\n",
       "      <td>4.000000</td>\n",
       "      <td>512.329200</td>\n",
       "      <td>1.740470</td>\n",
       "      <td>1.905988</td>\n",
       "      <td>229.588027</td>\n",
       "      <td>1.000000</td>\n",
       "      <td>1.000000</td>\n",
       "      <td>1.000000</td>\n",
       "      <td>1.000000</td>\n",
       "      <td>1.000000</td>\n",
       "      <td>1.000000</td>\n",
       "      <td>1.000000</td>\n",
       "      <td>1.000000</td>\n",
       "      <td>1.000000</td>\n",
       "    </tr>\n",
       "  </tbody>\n",
       "</table>\n",
       "</div>"
      ],
      "text/plain": [
       "       PassengerId    Survived      Pclass       SibSp       Parch  \\\n",
       "count   183.000000  183.000000  183.000000  183.000000  183.000000   \n",
       "mean    455.366120    0.672131    1.191257    0.453552    0.431694   \n",
       "std     247.052476    0.470725    0.515187    0.643459    0.737147   \n",
       "min       2.000000    0.000000    1.000000    0.000000    0.000000   \n",
       "25%     263.500000    0.000000    1.000000    0.000000    0.000000   \n",
       "50%     457.000000    1.000000    1.000000    0.000000    0.000000   \n",
       "75%     676.000000    1.000000    1.000000    1.000000    1.000000   \n",
       "max     890.000000    1.000000    3.000000    3.000000    4.000000   \n",
       "\n",
       "             Fare    SibSp_sd    Parch_sd     Fare_sd  PassengerId_norm  \\\n",
       "count  183.000000  183.000000  183.000000  183.000000        183.000000   \n",
       "mean    78.959191    0.424395    0.409463   74.584493          0.510547   \n",
       "std     75.314418    0.556198    0.672210   58.390871          0.278212   \n",
       "min      0.000000    0.000000    0.000000    0.000000          0.000000   \n",
       "25%     30.000000    0.000000    0.000000   30.000000          0.294482   \n",
       "50%     61.175000    0.000000    0.000000   61.175000          0.512387   \n",
       "75%     90.000000    1.000000    1.000000   90.000000          0.759009   \n",
       "max    512.329200    1.740470    1.905988  229.588027          1.000000   \n",
       "\n",
       "       Survived_norm  Pclass_norm  SibSp_norm  Parch_norm   Fare_norm  \\\n",
       "count     183.000000   183.000000  183.000000  183.000000  183.000000   \n",
       "mean        0.672131     0.095628    0.151184    0.107923    0.154118   \n",
       "std         0.470725     0.257593    0.214486    0.184287    0.147004   \n",
       "min         0.000000     0.000000    0.000000    0.000000    0.000000   \n",
       "25%         0.000000     0.000000    0.000000    0.000000    0.058556   \n",
       "50%         1.000000     0.000000    0.000000    0.000000    0.119406   \n",
       "75%         1.000000     0.000000    0.333333    0.250000    0.175668   \n",
       "max         1.000000     1.000000    1.000000    1.000000    1.000000   \n",
       "\n",
       "       SibSp_sd_norm  Parch_sd_norm  Fare_sd_norm  \n",
       "count     183.000000     183.000000    183.000000  \n",
       "mean        0.243839       0.214830      0.324862  \n",
       "std         0.319568       0.352683      0.254329  \n",
       "min         0.000000       0.000000      0.000000  \n",
       "25%         0.000000       0.000000      0.130669  \n",
       "50%         0.000000       0.000000      0.266456  \n",
       "75%         0.574557       0.524662      0.392007  \n",
       "max         1.000000       1.000000      1.000000  "
      ]
     },
     "execution_count": 196,
     "metadata": {},
     "output_type": "execute_result"
    }
   ],
   "source": [
    "df_norm1.describe()"
   ]
  },
  {
   "cell_type": "code",
   "execution_count": 197,
   "id": "91c2fd7d",
   "metadata": {},
   "outputs": [],
   "source": [
    "scaler = MinMaxScaler()\n",
    "df_norm2 = dataLimpia.copy()\n",
    "for col in df_norm2.select_dtypes(include=['float', 'int']).columns:\n",
    "    df_norm2[col+'_norm'] = scaler.fit_transform(df_norm2[[col]])"
   ]
  },
  {
   "cell_type": "code",
   "execution_count": 199,
   "id": "6825a61f",
   "metadata": {
    "scrolled": true
   },
   "outputs": [
    {
     "data": {
      "text/html": [
       "<div>\n",
       "<style scoped>\n",
       "    .dataframe tbody tr th:only-of-type {\n",
       "        vertical-align: middle;\n",
       "    }\n",
       "\n",
       "    .dataframe tbody tr th {\n",
       "        vertical-align: top;\n",
       "    }\n",
       "\n",
       "    .dataframe thead th {\n",
       "        text-align: right;\n",
       "    }\n",
       "</style>\n",
       "<table border=\"1\" class=\"dataframe\">\n",
       "  <thead>\n",
       "    <tr style=\"text-align: right;\">\n",
       "      <th></th>\n",
       "      <th>PassengerId</th>\n",
       "      <th>Survived</th>\n",
       "      <th>Pclass</th>\n",
       "      <th>Age</th>\n",
       "      <th>SibSp</th>\n",
       "      <th>Parch</th>\n",
       "      <th>Fare</th>\n",
       "      <th>PassengerId_norm</th>\n",
       "      <th>Survived_norm</th>\n",
       "      <th>Pclass_norm</th>\n",
       "      <th>Age_norm</th>\n",
       "      <th>SibSp_norm</th>\n",
       "      <th>Parch_norm</th>\n",
       "      <th>Fare_norm</th>\n",
       "    </tr>\n",
       "  </thead>\n",
       "  <tbody>\n",
       "    <tr>\n",
       "      <th>count</th>\n",
       "      <td>183.000000</td>\n",
       "      <td>183.000000</td>\n",
       "      <td>183.000000</td>\n",
       "      <td>183.000000</td>\n",
       "      <td>183.000000</td>\n",
       "      <td>183.000000</td>\n",
       "      <td>183.000000</td>\n",
       "      <td>183.000000</td>\n",
       "      <td>183.000000</td>\n",
       "      <td>183.000000</td>\n",
       "      <td>183.000000</td>\n",
       "      <td>183.000000</td>\n",
       "      <td>183.000000</td>\n",
       "      <td>183.000000</td>\n",
       "    </tr>\n",
       "    <tr>\n",
       "      <th>mean</th>\n",
       "      <td>455.366120</td>\n",
       "      <td>0.672131</td>\n",
       "      <td>1.191257</td>\n",
       "      <td>35.674426</td>\n",
       "      <td>0.464481</td>\n",
       "      <td>0.475410</td>\n",
       "      <td>78.682469</td>\n",
       "      <td>0.510547</td>\n",
       "      <td>0.672131</td>\n",
       "      <td>0.095628</td>\n",
       "      <td>0.439484</td>\n",
       "      <td>0.154827</td>\n",
       "      <td>0.118852</td>\n",
       "      <td>0.153578</td>\n",
       "    </tr>\n",
       "    <tr>\n",
       "      <th>std</th>\n",
       "      <td>247.052476</td>\n",
       "      <td>0.470725</td>\n",
       "      <td>0.515187</td>\n",
       "      <td>15.643866</td>\n",
       "      <td>0.644159</td>\n",
       "      <td>0.754617</td>\n",
       "      <td>76.347843</td>\n",
       "      <td>0.278212</td>\n",
       "      <td>0.470725</td>\n",
       "      <td>0.257593</td>\n",
       "      <td>0.197823</td>\n",
       "      <td>0.214720</td>\n",
       "      <td>0.188654</td>\n",
       "      <td>0.149021</td>\n",
       "    </tr>\n",
       "    <tr>\n",
       "      <th>min</th>\n",
       "      <td>2.000000</td>\n",
       "      <td>0.000000</td>\n",
       "      <td>1.000000</td>\n",
       "      <td>0.920000</td>\n",
       "      <td>0.000000</td>\n",
       "      <td>0.000000</td>\n",
       "      <td>0.000000</td>\n",
       "      <td>0.000000</td>\n",
       "      <td>0.000000</td>\n",
       "      <td>0.000000</td>\n",
       "      <td>0.000000</td>\n",
       "      <td>0.000000</td>\n",
       "      <td>0.000000</td>\n",
       "      <td>0.000000</td>\n",
       "    </tr>\n",
       "    <tr>\n",
       "      <th>25%</th>\n",
       "      <td>263.500000</td>\n",
       "      <td>0.000000</td>\n",
       "      <td>1.000000</td>\n",
       "      <td>24.000000</td>\n",
       "      <td>0.000000</td>\n",
       "      <td>0.000000</td>\n",
       "      <td>29.700000</td>\n",
       "      <td>0.294482</td>\n",
       "      <td>0.000000</td>\n",
       "      <td>0.000000</td>\n",
       "      <td>0.291856</td>\n",
       "      <td>0.000000</td>\n",
       "      <td>0.000000</td>\n",
       "      <td>0.057971</td>\n",
       "    </tr>\n",
       "    <tr>\n",
       "      <th>50%</th>\n",
       "      <td>457.000000</td>\n",
       "      <td>1.000000</td>\n",
       "      <td>1.000000</td>\n",
       "      <td>36.000000</td>\n",
       "      <td>0.000000</td>\n",
       "      <td>0.000000</td>\n",
       "      <td>57.000000</td>\n",
       "      <td>0.512387</td>\n",
       "      <td>1.000000</td>\n",
       "      <td>0.000000</td>\n",
       "      <td>0.443601</td>\n",
       "      <td>0.000000</td>\n",
       "      <td>0.000000</td>\n",
       "      <td>0.111257</td>\n",
       "    </tr>\n",
       "    <tr>\n",
       "      <th>75%</th>\n",
       "      <td>676.000000</td>\n",
       "      <td>1.000000</td>\n",
       "      <td>1.000000</td>\n",
       "      <td>47.500000</td>\n",
       "      <td>1.000000</td>\n",
       "      <td>1.000000</td>\n",
       "      <td>90.000000</td>\n",
       "      <td>0.759009</td>\n",
       "      <td>1.000000</td>\n",
       "      <td>0.000000</td>\n",
       "      <td>0.589024</td>\n",
       "      <td>0.333333</td>\n",
       "      <td>0.250000</td>\n",
       "      <td>0.175668</td>\n",
       "    </tr>\n",
       "    <tr>\n",
       "      <th>max</th>\n",
       "      <td>890.000000</td>\n",
       "      <td>1.000000</td>\n",
       "      <td>3.000000</td>\n",
       "      <td>80.000000</td>\n",
       "      <td>3.000000</td>\n",
       "      <td>4.000000</td>\n",
       "      <td>512.329200</td>\n",
       "      <td>1.000000</td>\n",
       "      <td>1.000000</td>\n",
       "      <td>1.000000</td>\n",
       "      <td>1.000000</td>\n",
       "      <td>1.000000</td>\n",
       "      <td>1.000000</td>\n",
       "      <td>1.000000</td>\n",
       "    </tr>\n",
       "  </tbody>\n",
       "</table>\n",
       "</div>"
      ],
      "text/plain": [
       "       PassengerId    Survived      Pclass         Age       SibSp  \\\n",
       "count   183.000000  183.000000  183.000000  183.000000  183.000000   \n",
       "mean    455.366120    0.672131    1.191257   35.674426    0.464481   \n",
       "std     247.052476    0.470725    0.515187   15.643866    0.644159   \n",
       "min       2.000000    0.000000    1.000000    0.920000    0.000000   \n",
       "25%     263.500000    0.000000    1.000000   24.000000    0.000000   \n",
       "50%     457.000000    1.000000    1.000000   36.000000    0.000000   \n",
       "75%     676.000000    1.000000    1.000000   47.500000    1.000000   \n",
       "max     890.000000    1.000000    3.000000   80.000000    3.000000   \n",
       "\n",
       "            Parch        Fare  PassengerId_norm  Survived_norm  Pclass_norm  \\\n",
       "count  183.000000  183.000000        183.000000     183.000000   183.000000   \n",
       "mean     0.475410   78.682469          0.510547       0.672131     0.095628   \n",
       "std      0.754617   76.347843          0.278212       0.470725     0.257593   \n",
       "min      0.000000    0.000000          0.000000       0.000000     0.000000   \n",
       "25%      0.000000   29.700000          0.294482       0.000000     0.000000   \n",
       "50%      0.000000   57.000000          0.512387       1.000000     0.000000   \n",
       "75%      1.000000   90.000000          0.759009       1.000000     0.000000   \n",
       "max      4.000000  512.329200          1.000000       1.000000     1.000000   \n",
       "\n",
       "         Age_norm  SibSp_norm  Parch_norm   Fare_norm  \n",
       "count  183.000000  183.000000  183.000000  183.000000  \n",
       "mean     0.439484    0.154827    0.118852    0.153578  \n",
       "std      0.197823    0.214720    0.188654    0.149021  \n",
       "min      0.000000    0.000000    0.000000    0.000000  \n",
       "25%      0.291856    0.000000    0.000000    0.057971  \n",
       "50%      0.443601    0.000000    0.000000    0.111257  \n",
       "75%      0.589024    0.333333    0.250000    0.175668  \n",
       "max      1.000000    1.000000    1.000000    1.000000  "
      ]
     },
     "execution_count": 199,
     "metadata": {},
     "output_type": "execute_result"
    }
   ],
   "source": [
    "df_norm2.describe()"
   ]
  },
  {
   "cell_type": "code",
   "execution_count": 201,
   "id": "7a0bb0f4",
   "metadata": {},
   "outputs": [],
   "source": [
    "scaler = MaxAbsScaler()\n",
    "df_maxabs1 = data.copy()\n",
    "for col in df_maxabs1.select_dtypes(include=['float', 'int']).columns:\n",
    "    df_maxabs1[col+'_norm'] = scaler.fit_transform(df_maxabs1[[col]])"
   ]
  },
  {
   "cell_type": "code",
   "execution_count": 202,
   "id": "32cb4f37",
   "metadata": {
    "scrolled": true
   },
   "outputs": [
    {
     "data": {
      "text/html": [
       "<div>\n",
       "<style scoped>\n",
       "    .dataframe tbody tr th:only-of-type {\n",
       "        vertical-align: middle;\n",
       "    }\n",
       "\n",
       "    .dataframe tbody tr th {\n",
       "        vertical-align: top;\n",
       "    }\n",
       "\n",
       "    .dataframe thead th {\n",
       "        text-align: right;\n",
       "    }\n",
       "</style>\n",
       "<table border=\"1\" class=\"dataframe\">\n",
       "  <thead>\n",
       "    <tr style=\"text-align: right;\">\n",
       "      <th></th>\n",
       "      <th>PassengerId</th>\n",
       "      <th>Survived</th>\n",
       "      <th>Pclass</th>\n",
       "      <th>SibSp</th>\n",
       "      <th>Parch</th>\n",
       "      <th>Fare</th>\n",
       "      <th>SibSp_sd</th>\n",
       "      <th>Parch_sd</th>\n",
       "      <th>Fare_sd</th>\n",
       "      <th>PassengerId_norm</th>\n",
       "      <th>Survived_norm</th>\n",
       "      <th>Pclass_norm</th>\n",
       "      <th>SibSp_norm</th>\n",
       "      <th>Parch_norm</th>\n",
       "      <th>Fare_norm</th>\n",
       "      <th>SibSp_sd_norm</th>\n",
       "      <th>Parch_sd_norm</th>\n",
       "      <th>Fare_sd_norm</th>\n",
       "    </tr>\n",
       "  </thead>\n",
       "  <tbody>\n",
       "    <tr>\n",
       "      <th>count</th>\n",
       "      <td>183.000000</td>\n",
       "      <td>183.000000</td>\n",
       "      <td>183.000000</td>\n",
       "      <td>183.000000</td>\n",
       "      <td>183.000000</td>\n",
       "      <td>183.000000</td>\n",
       "      <td>183.000000</td>\n",
       "      <td>183.000000</td>\n",
       "      <td>183.000000</td>\n",
       "      <td>183.000000</td>\n",
       "      <td>183.000000</td>\n",
       "      <td>183.000000</td>\n",
       "      <td>183.000000</td>\n",
       "      <td>183.000000</td>\n",
       "      <td>183.000000</td>\n",
       "      <td>183.000000</td>\n",
       "      <td>183.000000</td>\n",
       "      <td>183.000000</td>\n",
       "    </tr>\n",
       "    <tr>\n",
       "      <th>mean</th>\n",
       "      <td>455.366120</td>\n",
       "      <td>0.672131</td>\n",
       "      <td>1.191257</td>\n",
       "      <td>0.453552</td>\n",
       "      <td>0.431694</td>\n",
       "      <td>78.959191</td>\n",
       "      <td>0.424395</td>\n",
       "      <td>0.409463</td>\n",
       "      <td>74.584493</td>\n",
       "      <td>0.511647</td>\n",
       "      <td>0.672131</td>\n",
       "      <td>0.397086</td>\n",
       "      <td>0.151184</td>\n",
       "      <td>0.107923</td>\n",
       "      <td>0.154118</td>\n",
       "      <td>0.243839</td>\n",
       "      <td>0.214830</td>\n",
       "      <td>0.324862</td>\n",
       "    </tr>\n",
       "    <tr>\n",
       "      <th>std</th>\n",
       "      <td>247.052476</td>\n",
       "      <td>0.470725</td>\n",
       "      <td>0.515187</td>\n",
       "      <td>0.643459</td>\n",
       "      <td>0.737147</td>\n",
       "      <td>75.314418</td>\n",
       "      <td>0.556198</td>\n",
       "      <td>0.672210</td>\n",
       "      <td>58.390871</td>\n",
       "      <td>0.277587</td>\n",
       "      <td>0.470725</td>\n",
       "      <td>0.171729</td>\n",
       "      <td>0.214486</td>\n",
       "      <td>0.184287</td>\n",
       "      <td>0.147004</td>\n",
       "      <td>0.319568</td>\n",
       "      <td>0.352683</td>\n",
       "      <td>0.254329</td>\n",
       "    </tr>\n",
       "    <tr>\n",
       "      <th>min</th>\n",
       "      <td>2.000000</td>\n",
       "      <td>0.000000</td>\n",
       "      <td>1.000000</td>\n",
       "      <td>0.000000</td>\n",
       "      <td>0.000000</td>\n",
       "      <td>0.000000</td>\n",
       "      <td>0.000000</td>\n",
       "      <td>0.000000</td>\n",
       "      <td>0.000000</td>\n",
       "      <td>0.002247</td>\n",
       "      <td>0.000000</td>\n",
       "      <td>0.333333</td>\n",
       "      <td>0.000000</td>\n",
       "      <td>0.000000</td>\n",
       "      <td>0.000000</td>\n",
       "      <td>0.000000</td>\n",
       "      <td>0.000000</td>\n",
       "      <td>0.000000</td>\n",
       "    </tr>\n",
       "    <tr>\n",
       "      <th>25%</th>\n",
       "      <td>263.500000</td>\n",
       "      <td>0.000000</td>\n",
       "      <td>1.000000</td>\n",
       "      <td>0.000000</td>\n",
       "      <td>0.000000</td>\n",
       "      <td>30.000000</td>\n",
       "      <td>0.000000</td>\n",
       "      <td>0.000000</td>\n",
       "      <td>30.000000</td>\n",
       "      <td>0.296067</td>\n",
       "      <td>0.000000</td>\n",
       "      <td>0.333333</td>\n",
       "      <td>0.000000</td>\n",
       "      <td>0.000000</td>\n",
       "      <td>0.058556</td>\n",
       "      <td>0.000000</td>\n",
       "      <td>0.000000</td>\n",
       "      <td>0.130669</td>\n",
       "    </tr>\n",
       "    <tr>\n",
       "      <th>50%</th>\n",
       "      <td>457.000000</td>\n",
       "      <td>1.000000</td>\n",
       "      <td>1.000000</td>\n",
       "      <td>0.000000</td>\n",
       "      <td>0.000000</td>\n",
       "      <td>61.175000</td>\n",
       "      <td>0.000000</td>\n",
       "      <td>0.000000</td>\n",
       "      <td>61.175000</td>\n",
       "      <td>0.513483</td>\n",
       "      <td>1.000000</td>\n",
       "      <td>0.333333</td>\n",
       "      <td>0.000000</td>\n",
       "      <td>0.000000</td>\n",
       "      <td>0.119406</td>\n",
       "      <td>0.000000</td>\n",
       "      <td>0.000000</td>\n",
       "      <td>0.266456</td>\n",
       "    </tr>\n",
       "    <tr>\n",
       "      <th>75%</th>\n",
       "      <td>676.000000</td>\n",
       "      <td>1.000000</td>\n",
       "      <td>1.000000</td>\n",
       "      <td>1.000000</td>\n",
       "      <td>1.000000</td>\n",
       "      <td>90.000000</td>\n",
       "      <td>1.000000</td>\n",
       "      <td>1.000000</td>\n",
       "      <td>90.000000</td>\n",
       "      <td>0.759551</td>\n",
       "      <td>1.000000</td>\n",
       "      <td>0.333333</td>\n",
       "      <td>0.333333</td>\n",
       "      <td>0.250000</td>\n",
       "      <td>0.175668</td>\n",
       "      <td>0.574557</td>\n",
       "      <td>0.524662</td>\n",
       "      <td>0.392007</td>\n",
       "    </tr>\n",
       "    <tr>\n",
       "      <th>max</th>\n",
       "      <td>890.000000</td>\n",
       "      <td>1.000000</td>\n",
       "      <td>3.000000</td>\n",
       "      <td>3.000000</td>\n",
       "      <td>4.000000</td>\n",
       "      <td>512.329200</td>\n",
       "      <td>1.740470</td>\n",
       "      <td>1.905988</td>\n",
       "      <td>229.588027</td>\n",
       "      <td>1.000000</td>\n",
       "      <td>1.000000</td>\n",
       "      <td>1.000000</td>\n",
       "      <td>1.000000</td>\n",
       "      <td>1.000000</td>\n",
       "      <td>1.000000</td>\n",
       "      <td>1.000000</td>\n",
       "      <td>1.000000</td>\n",
       "      <td>1.000000</td>\n",
       "    </tr>\n",
       "  </tbody>\n",
       "</table>\n",
       "</div>"
      ],
      "text/plain": [
       "       PassengerId    Survived      Pclass       SibSp       Parch  \\\n",
       "count   183.000000  183.000000  183.000000  183.000000  183.000000   \n",
       "mean    455.366120    0.672131    1.191257    0.453552    0.431694   \n",
       "std     247.052476    0.470725    0.515187    0.643459    0.737147   \n",
       "min       2.000000    0.000000    1.000000    0.000000    0.000000   \n",
       "25%     263.500000    0.000000    1.000000    0.000000    0.000000   \n",
       "50%     457.000000    1.000000    1.000000    0.000000    0.000000   \n",
       "75%     676.000000    1.000000    1.000000    1.000000    1.000000   \n",
       "max     890.000000    1.000000    3.000000    3.000000    4.000000   \n",
       "\n",
       "             Fare    SibSp_sd    Parch_sd     Fare_sd  PassengerId_norm  \\\n",
       "count  183.000000  183.000000  183.000000  183.000000        183.000000   \n",
       "mean    78.959191    0.424395    0.409463   74.584493          0.511647   \n",
       "std     75.314418    0.556198    0.672210   58.390871          0.277587   \n",
       "min      0.000000    0.000000    0.000000    0.000000          0.002247   \n",
       "25%     30.000000    0.000000    0.000000   30.000000          0.296067   \n",
       "50%     61.175000    0.000000    0.000000   61.175000          0.513483   \n",
       "75%     90.000000    1.000000    1.000000   90.000000          0.759551   \n",
       "max    512.329200    1.740470    1.905988  229.588027          1.000000   \n",
       "\n",
       "       Survived_norm  Pclass_norm  SibSp_norm  Parch_norm   Fare_norm  \\\n",
       "count     183.000000   183.000000  183.000000  183.000000  183.000000   \n",
       "mean        0.672131     0.397086    0.151184    0.107923    0.154118   \n",
       "std         0.470725     0.171729    0.214486    0.184287    0.147004   \n",
       "min         0.000000     0.333333    0.000000    0.000000    0.000000   \n",
       "25%         0.000000     0.333333    0.000000    0.000000    0.058556   \n",
       "50%         1.000000     0.333333    0.000000    0.000000    0.119406   \n",
       "75%         1.000000     0.333333    0.333333    0.250000    0.175668   \n",
       "max         1.000000     1.000000    1.000000    1.000000    1.000000   \n",
       "\n",
       "       SibSp_sd_norm  Parch_sd_norm  Fare_sd_norm  \n",
       "count     183.000000     183.000000    183.000000  \n",
       "mean        0.243839       0.214830      0.324862  \n",
       "std         0.319568       0.352683      0.254329  \n",
       "min         0.000000       0.000000      0.000000  \n",
       "25%         0.000000       0.000000      0.130669  \n",
       "50%         0.000000       0.000000      0.266456  \n",
       "75%         0.574557       0.524662      0.392007  \n",
       "max         1.000000       1.000000      1.000000  "
      ]
     },
     "execution_count": 202,
     "metadata": {},
     "output_type": "execute_result"
    }
   ],
   "source": [
    "df_maxabs1.describe()"
   ]
  },
  {
   "cell_type": "code",
   "execution_count": 203,
   "id": "49332145",
   "metadata": {},
   "outputs": [],
   "source": [
    "scaler = MaxAbsScaler()\n",
    "df_maxabs2 = dataLimpia.copy()\n",
    "for col in df_maxabs2.select_dtypes(include=['float', 'int']).columns:\n",
    "    df_maxabs2[col+'_norm'] = scaler.fit_transform(df_maxabs2[[col]])"
   ]
  },
  {
   "cell_type": "code",
   "execution_count": 204,
   "id": "ff2e53ac",
   "metadata": {
    "scrolled": false
   },
   "outputs": [
    {
     "data": {
      "text/html": [
       "<div>\n",
       "<style scoped>\n",
       "    .dataframe tbody tr th:only-of-type {\n",
       "        vertical-align: middle;\n",
       "    }\n",
       "\n",
       "    .dataframe tbody tr th {\n",
       "        vertical-align: top;\n",
       "    }\n",
       "\n",
       "    .dataframe thead th {\n",
       "        text-align: right;\n",
       "    }\n",
       "</style>\n",
       "<table border=\"1\" class=\"dataframe\">\n",
       "  <thead>\n",
       "    <tr style=\"text-align: right;\">\n",
       "      <th></th>\n",
       "      <th>PassengerId</th>\n",
       "      <th>Survived</th>\n",
       "      <th>Pclass</th>\n",
       "      <th>Age</th>\n",
       "      <th>SibSp</th>\n",
       "      <th>Parch</th>\n",
       "      <th>Fare</th>\n",
       "      <th>PassengerId_norm</th>\n",
       "      <th>Survived_norm</th>\n",
       "      <th>Pclass_norm</th>\n",
       "      <th>Age_norm</th>\n",
       "      <th>SibSp_norm</th>\n",
       "      <th>Parch_norm</th>\n",
       "      <th>Fare_norm</th>\n",
       "    </tr>\n",
       "  </thead>\n",
       "  <tbody>\n",
       "    <tr>\n",
       "      <th>count</th>\n",
       "      <td>183.000000</td>\n",
       "      <td>183.000000</td>\n",
       "      <td>183.000000</td>\n",
       "      <td>183.000000</td>\n",
       "      <td>183.000000</td>\n",
       "      <td>183.000000</td>\n",
       "      <td>183.000000</td>\n",
       "      <td>183.000000</td>\n",
       "      <td>183.000000</td>\n",
       "      <td>183.000000</td>\n",
       "      <td>183.000000</td>\n",
       "      <td>183.000000</td>\n",
       "      <td>183.000000</td>\n",
       "      <td>183.000000</td>\n",
       "    </tr>\n",
       "    <tr>\n",
       "      <th>mean</th>\n",
       "      <td>455.366120</td>\n",
       "      <td>0.672131</td>\n",
       "      <td>1.191257</td>\n",
       "      <td>35.674426</td>\n",
       "      <td>0.464481</td>\n",
       "      <td>0.475410</td>\n",
       "      <td>78.682469</td>\n",
       "      <td>0.511647</td>\n",
       "      <td>0.672131</td>\n",
       "      <td>0.397086</td>\n",
       "      <td>0.445930</td>\n",
       "      <td>0.154827</td>\n",
       "      <td>0.118852</td>\n",
       "      <td>0.153578</td>\n",
       "    </tr>\n",
       "    <tr>\n",
       "      <th>std</th>\n",
       "      <td>247.052476</td>\n",
       "      <td>0.470725</td>\n",
       "      <td>0.515187</td>\n",
       "      <td>15.643866</td>\n",
       "      <td>0.644159</td>\n",
       "      <td>0.754617</td>\n",
       "      <td>76.347843</td>\n",
       "      <td>0.277587</td>\n",
       "      <td>0.470725</td>\n",
       "      <td>0.171729</td>\n",
       "      <td>0.195548</td>\n",
       "      <td>0.214720</td>\n",
       "      <td>0.188654</td>\n",
       "      <td>0.149021</td>\n",
       "    </tr>\n",
       "    <tr>\n",
       "      <th>min</th>\n",
       "      <td>2.000000</td>\n",
       "      <td>0.000000</td>\n",
       "      <td>1.000000</td>\n",
       "      <td>0.920000</td>\n",
       "      <td>0.000000</td>\n",
       "      <td>0.000000</td>\n",
       "      <td>0.000000</td>\n",
       "      <td>0.002247</td>\n",
       "      <td>0.000000</td>\n",
       "      <td>0.333333</td>\n",
       "      <td>0.011500</td>\n",
       "      <td>0.000000</td>\n",
       "      <td>0.000000</td>\n",
       "      <td>0.000000</td>\n",
       "    </tr>\n",
       "    <tr>\n",
       "      <th>25%</th>\n",
       "      <td>263.500000</td>\n",
       "      <td>0.000000</td>\n",
       "      <td>1.000000</td>\n",
       "      <td>24.000000</td>\n",
       "      <td>0.000000</td>\n",
       "      <td>0.000000</td>\n",
       "      <td>29.700000</td>\n",
       "      <td>0.296067</td>\n",
       "      <td>0.000000</td>\n",
       "      <td>0.333333</td>\n",
       "      <td>0.300000</td>\n",
       "      <td>0.000000</td>\n",
       "      <td>0.000000</td>\n",
       "      <td>0.057971</td>\n",
       "    </tr>\n",
       "    <tr>\n",
       "      <th>50%</th>\n",
       "      <td>457.000000</td>\n",
       "      <td>1.000000</td>\n",
       "      <td>1.000000</td>\n",
       "      <td>36.000000</td>\n",
       "      <td>0.000000</td>\n",
       "      <td>0.000000</td>\n",
       "      <td>57.000000</td>\n",
       "      <td>0.513483</td>\n",
       "      <td>1.000000</td>\n",
       "      <td>0.333333</td>\n",
       "      <td>0.450000</td>\n",
       "      <td>0.000000</td>\n",
       "      <td>0.000000</td>\n",
       "      <td>0.111257</td>\n",
       "    </tr>\n",
       "    <tr>\n",
       "      <th>75%</th>\n",
       "      <td>676.000000</td>\n",
       "      <td>1.000000</td>\n",
       "      <td>1.000000</td>\n",
       "      <td>47.500000</td>\n",
       "      <td>1.000000</td>\n",
       "      <td>1.000000</td>\n",
       "      <td>90.000000</td>\n",
       "      <td>0.759551</td>\n",
       "      <td>1.000000</td>\n",
       "      <td>0.333333</td>\n",
       "      <td>0.593750</td>\n",
       "      <td>0.333333</td>\n",
       "      <td>0.250000</td>\n",
       "      <td>0.175668</td>\n",
       "    </tr>\n",
       "    <tr>\n",
       "      <th>max</th>\n",
       "      <td>890.000000</td>\n",
       "      <td>1.000000</td>\n",
       "      <td>3.000000</td>\n",
       "      <td>80.000000</td>\n",
       "      <td>3.000000</td>\n",
       "      <td>4.000000</td>\n",
       "      <td>512.329200</td>\n",
       "      <td>1.000000</td>\n",
       "      <td>1.000000</td>\n",
       "      <td>1.000000</td>\n",
       "      <td>1.000000</td>\n",
       "      <td>1.000000</td>\n",
       "      <td>1.000000</td>\n",
       "      <td>1.000000</td>\n",
       "    </tr>\n",
       "  </tbody>\n",
       "</table>\n",
       "</div>"
      ],
      "text/plain": [
       "       PassengerId    Survived      Pclass         Age       SibSp  \\\n",
       "count   183.000000  183.000000  183.000000  183.000000  183.000000   \n",
       "mean    455.366120    0.672131    1.191257   35.674426    0.464481   \n",
       "std     247.052476    0.470725    0.515187   15.643866    0.644159   \n",
       "min       2.000000    0.000000    1.000000    0.920000    0.000000   \n",
       "25%     263.500000    0.000000    1.000000   24.000000    0.000000   \n",
       "50%     457.000000    1.000000    1.000000   36.000000    0.000000   \n",
       "75%     676.000000    1.000000    1.000000   47.500000    1.000000   \n",
       "max     890.000000    1.000000    3.000000   80.000000    3.000000   \n",
       "\n",
       "            Parch        Fare  PassengerId_norm  Survived_norm  Pclass_norm  \\\n",
       "count  183.000000  183.000000        183.000000     183.000000   183.000000   \n",
       "mean     0.475410   78.682469          0.511647       0.672131     0.397086   \n",
       "std      0.754617   76.347843          0.277587       0.470725     0.171729   \n",
       "min      0.000000    0.000000          0.002247       0.000000     0.333333   \n",
       "25%      0.000000   29.700000          0.296067       0.000000     0.333333   \n",
       "50%      0.000000   57.000000          0.513483       1.000000     0.333333   \n",
       "75%      1.000000   90.000000          0.759551       1.000000     0.333333   \n",
       "max      4.000000  512.329200          1.000000       1.000000     1.000000   \n",
       "\n",
       "         Age_norm  SibSp_norm  Parch_norm   Fare_norm  \n",
       "count  183.000000  183.000000  183.000000  183.000000  \n",
       "mean     0.445930    0.154827    0.118852    0.153578  \n",
       "std      0.195548    0.214720    0.188654    0.149021  \n",
       "min      0.011500    0.000000    0.000000    0.000000  \n",
       "25%      0.300000    0.000000    0.000000    0.057971  \n",
       "50%      0.450000    0.000000    0.000000    0.111257  \n",
       "75%      0.593750    0.333333    0.250000    0.175668  \n",
       "max      1.000000    1.000000    1.000000    1.000000  "
      ]
     },
     "execution_count": 204,
     "metadata": {},
     "output_type": "execute_result"
    }
   ],
   "source": [
    "df_maxabs2.describe()"
   ]
  },
  {
   "cell_type": "markdown",
   "id": "5f82f394",
   "metadata": {},
   "source": [
    "### Inciso 2"
   ]
  },
  {
   "cell_type": "markdown",
   "id": "fada5e23",
   "metadata": {},
   "source": [
    "En muchos casos los resultados de desviación estándar que quedan son similares, pero hay otros donde varian bastante, principalmente en aquellos métodos que mostraron un error absoluto promedio mayor al resto"
   ]
  }
 ],
 "metadata": {
  "kernelspec": {
   "display_name": "Python 3",
   "language": "python",
   "name": "python3"
  },
  "language_info": {
   "codemirror_mode": {
    "name": "ipython",
    "version": 3
   },
   "file_extension": ".py",
   "mimetype": "text/x-python",
   "name": "python",
   "nbconvert_exporter": "python",
   "pygments_lexer": "ipython3",
   "version": "3.7.13"
  }
 },
 "nbformat": 4,
 "nbformat_minor": 5
}
